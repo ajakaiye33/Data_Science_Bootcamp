{
 "cells": [
  {
   "cell_type": "markdown",
   "metadata": {
    "collapsed": true
   },
   "source": [
    "### Cleaning Dirty Data"
   ]
  },
  {
   "cell_type": "code",
   "execution_count": 3,
   "metadata": {},
   "outputs": [],
   "source": [
    "import pandas as pd\n",
    "import matplotlib.pyplot as plt\n",
    "import seaborn as sns\n",
    "%matplotlib inline"
   ]
  },
  {
   "cell_type": "code",
   "execution_count": 4,
   "metadata": {},
   "outputs": [],
   "source": [
    "#to overcome the unicode that cant be converted we used unicode escapeunder encoding\n",
    "apc_data = pd.read_csv('apcspend.csv', encoding='unicode_escape')"
   ]
  },
  {
   "cell_type": "code",
   "execution_count": 5,
   "metadata": {},
   "outputs": [
    {
     "data": {
      "text/html": [
       "<div>\n",
       "<style scoped>\n",
       "    .dataframe tbody tr th:only-of-type {\n",
       "        vertical-align: middle;\n",
       "    }\n",
       "\n",
       "    .dataframe tbody tr th {\n",
       "        vertical-align: top;\n",
       "    }\n",
       "\n",
       "    .dataframe thead th {\n",
       "        text-align: right;\n",
       "    }\n",
       "</style>\n",
       "<table border=\"1\" class=\"dataframe\">\n",
       "  <thead>\n",
       "    <tr style=\"text-align: right;\">\n",
       "      <th></th>\n",
       "      <th>PMID/PMCID</th>\n",
       "      <th>Publisher</th>\n",
       "      <th>Journal title</th>\n",
       "      <th>Article title</th>\n",
       "      <th>COST (£) charged to Wellcome (inc VAT when charged)</th>\n",
       "    </tr>\n",
       "  </thead>\n",
       "  <tbody>\n",
       "    <tr>\n",
       "      <th>0</th>\n",
       "      <td>NaN</td>\n",
       "      <td>CUP</td>\n",
       "      <td>Psychological Medicine</td>\n",
       "      <td>Reduced parahippocampal cortical thickness in ...</td>\n",
       "      <td>£0.00</td>\n",
       "    </tr>\n",
       "    <tr>\n",
       "      <th>1</th>\n",
       "      <td>PMC3679557</td>\n",
       "      <td>ACS</td>\n",
       "      <td>Biomacromolecules</td>\n",
       "      <td>Structural characterization of a Model Gram-ne...</td>\n",
       "      <td>£2381.04</td>\n",
       "    </tr>\n",
       "    <tr>\n",
       "      <th>2</th>\n",
       "      <td>23043264  PMC3506128</td>\n",
       "      <td>ACS</td>\n",
       "      <td>J Med Chem</td>\n",
       "      <td>Fumaroylamino-4,5-epoxymorphinans and related ...</td>\n",
       "      <td>£642.56</td>\n",
       "    </tr>\n",
       "    <tr>\n",
       "      <th>3</th>\n",
       "      <td>23438330 PMC3646402</td>\n",
       "      <td>ACS</td>\n",
       "      <td>J Med Chem</td>\n",
       "      <td>Orvinols with mixed kappa/mu opioid receptor a...</td>\n",
       "      <td>£669.64</td>\n",
       "    </tr>\n",
       "    <tr>\n",
       "      <th>4</th>\n",
       "      <td>23438216 PMC3601604</td>\n",
       "      <td>ACS</td>\n",
       "      <td>J Org Chem</td>\n",
       "      <td>Regioselective opening of myo-inositol orthoes...</td>\n",
       "      <td>£685.88</td>\n",
       "    </tr>\n",
       "  </tbody>\n",
       "</table>\n",
       "</div>"
      ],
      "text/plain": [
       "              PMID/PMCID Publisher           Journal title  \\\n",
       "0                    NaN       CUP  Psychological Medicine   \n",
       "1             PMC3679557       ACS       Biomacromolecules   \n",
       "2  23043264  PMC3506128        ACS              J Med Chem   \n",
       "3    23438330 PMC3646402       ACS              J Med Chem   \n",
       "4   23438216 PMC3601604        ACS              J Org Chem   \n",
       "\n",
       "                                       Article title  \\\n",
       "0  Reduced parahippocampal cortical thickness in ...   \n",
       "1  Structural characterization of a Model Gram-ne...   \n",
       "2  Fumaroylamino-4,5-epoxymorphinans and related ...   \n",
       "3  Orvinols with mixed kappa/mu opioid receptor a...   \n",
       "4  Regioselective opening of myo-inositol orthoes...   \n",
       "\n",
       "  COST (£) charged to Wellcome (inc VAT when charged)  \n",
       "0                                              £0.00   \n",
       "1                                           £2381.04   \n",
       "2                                            £642.56   \n",
       "3                                            £669.64   \n",
       "4                                            £685.88   "
      ]
     },
     "execution_count": 5,
     "metadata": {},
     "output_type": "execute_result"
    }
   ],
   "source": [
    "apc_data.head()"
   ]
  },
  {
   "cell_type": "code",
   "execution_count": 6,
   "metadata": {},
   "outputs": [
    {
     "data": {
      "text/html": [
       "<div>\n",
       "<style scoped>\n",
       "    .dataframe tbody tr th:only-of-type {\n",
       "        vertical-align: middle;\n",
       "    }\n",
       "\n",
       "    .dataframe tbody tr th {\n",
       "        vertical-align: top;\n",
       "    }\n",
       "\n",
       "    .dataframe thead th {\n",
       "        text-align: right;\n",
       "    }\n",
       "</style>\n",
       "<table border=\"1\" class=\"dataframe\">\n",
       "  <thead>\n",
       "    <tr style=\"text-align: right;\">\n",
       "      <th></th>\n",
       "      <th>PMID/PMCID</th>\n",
       "      <th>Publisher</th>\n",
       "      <th>Journal title</th>\n",
       "      <th>Article title</th>\n",
       "      <th>COST (£) charged to Wellcome (inc VAT when charged)</th>\n",
       "    </tr>\n",
       "  </thead>\n",
       "  <tbody>\n",
       "    <tr>\n",
       "      <th>2122</th>\n",
       "      <td>2901593</td>\n",
       "      <td>Wolters Kluwer Health</td>\n",
       "      <td>Circulation Research</td>\n",
       "      <td>Mechanistic Links Between Na+ Channel (SCN5A) ...</td>\n",
       "      <td>£1334.15</td>\n",
       "    </tr>\n",
       "    <tr>\n",
       "      <th>2123</th>\n",
       "      <td>3748854</td>\n",
       "      <td>Wolters Kluwer Health</td>\n",
       "      <td>AIDS</td>\n",
       "      <td>Evaluation of an empiric risk screening score ...</td>\n",
       "      <td>£1834.77</td>\n",
       "    </tr>\n",
       "    <tr>\n",
       "      <th>2124</th>\n",
       "      <td>3785148</td>\n",
       "      <td>Wolters Kluwer Health</td>\n",
       "      <td>Pediatr Infect Dis J</td>\n",
       "      <td>Topical umbilical cord care for prevention of ...</td>\n",
       "      <td>£1834.77</td>\n",
       "    </tr>\n",
       "    <tr>\n",
       "      <th>2125</th>\n",
       "      <td>PMCID:\\n    PMC3647051\\n</td>\n",
       "      <td>Wolters Kluwer N.V./Lippinott</td>\n",
       "      <td>AIDS</td>\n",
       "      <td>Grassroots Community Organisations' Contributi...</td>\n",
       "      <td>£2374.52</td>\n",
       "    </tr>\n",
       "    <tr>\n",
       "      <th>2126</th>\n",
       "      <td>PMID: 23846567  (Epub July 2013)</td>\n",
       "      <td>Wolters Kluwers</td>\n",
       "      <td>Journal of Acquired Immune Deficiency Syndromes</td>\n",
       "      <td>A novel community health worker tool outperfor...</td>\n",
       "      <td>£2034.75</td>\n",
       "    </tr>\n",
       "  </tbody>\n",
       "</table>\n",
       "</div>"
      ],
      "text/plain": [
       "                            PMID/PMCID                      Publisher  \\\n",
       "2122                           2901593          Wolters Kluwer Health   \n",
       "2123                           3748854         Wolters Kluwer Health    \n",
       "2124                           3785148         Wolters Kluwer Health    \n",
       "2125          PMCID:\\n    PMC3647051\\n  Wolters Kluwer N.V./Lippinott   \n",
       "2126  PMID: 23846567  (Epub July 2013)                Wolters Kluwers   \n",
       "\n",
       "                                        Journal title  \\\n",
       "2122                             Circulation Research   \n",
       "2123                                             AIDS   \n",
       "2124                             Pediatr Infect Dis J   \n",
       "2125                                             AIDS   \n",
       "2126  Journal of Acquired Immune Deficiency Syndromes   \n",
       "\n",
       "                                          Article title  \\\n",
       "2122  Mechanistic Links Between Na+ Channel (SCN5A) ...   \n",
       "2123  Evaluation of an empiric risk screening score ...   \n",
       "2124  Topical umbilical cord care for prevention of ...   \n",
       "2125  Grassroots Community Organisations' Contributi...   \n",
       "2126  A novel community health worker tool outperfor...   \n",
       "\n",
       "     COST (£) charged to Wellcome (inc VAT when charged)  \n",
       "2122                                           £1334.15   \n",
       "2123                                           £1834.77   \n",
       "2124                                           £1834.77   \n",
       "2125                                           £2374.52   \n",
       "2126                                           £2034.75   "
      ]
     },
     "execution_count": 6,
     "metadata": {},
     "output_type": "execute_result"
    }
   ],
   "source": [
    "apc_data.tail()"
   ]
  },
  {
   "cell_type": "code",
   "execution_count": 7,
   "metadata": {},
   "outputs": [
    {
     "data": {
      "text/plain": [
       "Index(['PMID/PMCID', 'Publisher', 'Journal title', 'Article title',\n",
       "       'COST (£) charged to Wellcome (inc VAT when charged)'],\n",
       "      dtype='object')"
      ]
     },
     "execution_count": 7,
     "metadata": {},
     "output_type": "execute_result"
    }
   ],
   "source": [
    "apc_data.columns"
   ]
  },
  {
   "cell_type": "code",
   "execution_count": 8,
   "metadata": {},
   "outputs": [],
   "source": [
    "apc_data = apc_data.rename(columns = {'PMID/PMCID':'pmid_pmcid', 'Publisher':'publisher', 'Journal title':'journal_title','Article title':'article_title', 'COST (£) charged to Wellcome (inc VAT when charged)':'cost'})"
   ]
  },
  {
   "cell_type": "code",
   "execution_count": 9,
   "metadata": {},
   "outputs": [
    {
     "data": {
      "text/html": [
       "<div>\n",
       "<style scoped>\n",
       "    .dataframe tbody tr th:only-of-type {\n",
       "        vertical-align: middle;\n",
       "    }\n",
       "\n",
       "    .dataframe tbody tr th {\n",
       "        vertical-align: top;\n",
       "    }\n",
       "\n",
       "    .dataframe thead th {\n",
       "        text-align: right;\n",
       "    }\n",
       "</style>\n",
       "<table border=\"1\" class=\"dataframe\">\n",
       "  <thead>\n",
       "    <tr style=\"text-align: right;\">\n",
       "      <th></th>\n",
       "      <th>pmid_pmcid</th>\n",
       "      <th>publisher</th>\n",
       "      <th>journal_title</th>\n",
       "      <th>article_title</th>\n",
       "      <th>cost</th>\n",
       "    </tr>\n",
       "  </thead>\n",
       "  <tbody>\n",
       "    <tr>\n",
       "      <th>0</th>\n",
       "      <td>NaN</td>\n",
       "      <td>CUP</td>\n",
       "      <td>Psychological Medicine</td>\n",
       "      <td>Reduced parahippocampal cortical thickness in ...</td>\n",
       "      <td>£0.00</td>\n",
       "    </tr>\n",
       "    <tr>\n",
       "      <th>1</th>\n",
       "      <td>PMC3679557</td>\n",
       "      <td>ACS</td>\n",
       "      <td>Biomacromolecules</td>\n",
       "      <td>Structural characterization of a Model Gram-ne...</td>\n",
       "      <td>£2381.04</td>\n",
       "    </tr>\n",
       "    <tr>\n",
       "      <th>2</th>\n",
       "      <td>23043264  PMC3506128</td>\n",
       "      <td>ACS</td>\n",
       "      <td>J Med Chem</td>\n",
       "      <td>Fumaroylamino-4,5-epoxymorphinans and related ...</td>\n",
       "      <td>£642.56</td>\n",
       "    </tr>\n",
       "    <tr>\n",
       "      <th>3</th>\n",
       "      <td>23438330 PMC3646402</td>\n",
       "      <td>ACS</td>\n",
       "      <td>J Med Chem</td>\n",
       "      <td>Orvinols with mixed kappa/mu opioid receptor a...</td>\n",
       "      <td>£669.64</td>\n",
       "    </tr>\n",
       "    <tr>\n",
       "      <th>4</th>\n",
       "      <td>23438216 PMC3601604</td>\n",
       "      <td>ACS</td>\n",
       "      <td>J Org Chem</td>\n",
       "      <td>Regioselective opening of myo-inositol orthoes...</td>\n",
       "      <td>£685.88</td>\n",
       "    </tr>\n",
       "  </tbody>\n",
       "</table>\n",
       "</div>"
      ],
      "text/plain": [
       "              pmid_pmcid publisher           journal_title  \\\n",
       "0                    NaN       CUP  Psychological Medicine   \n",
       "1             PMC3679557       ACS       Biomacromolecules   \n",
       "2  23043264  PMC3506128        ACS              J Med Chem   \n",
       "3    23438330 PMC3646402       ACS              J Med Chem   \n",
       "4   23438216 PMC3601604        ACS              J Org Chem   \n",
       "\n",
       "                                       article_title      cost  \n",
       "0  Reduced parahippocampal cortical thickness in ...     £0.00  \n",
       "1  Structural characterization of a Model Gram-ne...  £2381.04  \n",
       "2  Fumaroylamino-4,5-epoxymorphinans and related ...   £642.56  \n",
       "3  Orvinols with mixed kappa/mu opioid receptor a...   £669.64  \n",
       "4  Regioselective opening of myo-inositol orthoes...   £685.88  "
      ]
     },
     "execution_count": 9,
     "metadata": {},
     "output_type": "execute_result"
    }
   ],
   "source": [
    "apc_data.head()"
   ]
  },
  {
   "cell_type": "code",
   "execution_count": 10,
   "metadata": {},
   "outputs": [
    {
     "name": "stdout",
     "output_type": "stream",
     "text": [
      "<class 'pandas.core.frame.DataFrame'>\n",
      "RangeIndex: 2127 entries, 0 to 2126\n",
      "Data columns (total 5 columns):\n",
      "pmid_pmcid       1928 non-null object\n",
      "publisher        2127 non-null object\n",
      "journal_title    2126 non-null object\n",
      "article_title    2127 non-null object\n",
      "cost             2127 non-null object\n",
      "dtypes: object(5)\n",
      "memory usage: 83.2+ KB\n"
     ]
    }
   ],
   "source": [
    "apc_data.info()"
   ]
  },
  {
   "cell_type": "code",
   "execution_count": 11,
   "metadata": {},
   "outputs": [
    {
     "data": {
      "text/plain": [
       "0                                    NaN\n",
       "1                             PMC3679557\n",
       "2                  23043264  PMC3506128 \n",
       "3                    23438330 PMC3646402\n",
       "4                   23438216 PMC3601604 \n",
       "5                             PMC3579457\n",
       "6                             PMC3709265\n",
       "7                   23057412 PMC3495574 \n",
       "8                      PMCID: PMC3780468\n",
       "9                      PMCID: PMC3621575\n",
       "10                     PMCID: PMC3739413\n",
       "11                     PMCID: PMC3530961\n",
       "12                     PMCID: PMC3624797\n",
       "13                            PMC3413243\n",
       "14                            PMC3694353\n",
       "15                            PMC3572711\n",
       "16                              22610094\n",
       "17                     PMCID: PMC3586974\n",
       "18          23455506  PMCID: PMC3607399 \n",
       "19            PMID: 24015914 PMC3833349 \n",
       "20                         : PMC3805332 \n",
       "21                                   NaN\n",
       "22              PMCID:\\n    PMC3656742\\n\n",
       "23                        PMCID: 3584654\n",
       "24                   22971149 PMC3466778\n",
       "25                              23072351\n",
       "26                            PMC3477822\n",
       "27                            PMC3530960\n",
       "28                  23458425 PMC3630740 \n",
       "29                        PMID: 20146481\n",
       "                      ...               \n",
       "2097                             3575693\n",
       "2098          PMID: 22188548 PMC3492912 \n",
       "2099          PMID: 22764734 PMC3798095 \n",
       "2100                      PMID: 23703895\n",
       "2101                   PMCID: PMC3664106\n",
       "2102                      PMID: 23649934\n",
       "2103                          PMC2955965\n",
       "2104          PMID: 19948006 PMC3551259 \n",
       "2105                      PMID: 23305527\n",
       "2106                   PMCID: PMC3600532\n",
       "2107                          PMC3440570\n",
       "2108                23670821 PMC3738939 \n",
       "2109                            23640856\n",
       "2110                      PMID: 23918316\n",
       "2111                   PMCID: PMC3728731\n",
       "2112         23495205685.88 PMC3743159  \n",
       "2113           PMID:22997008 PMC3569869 \n",
       "2114                             3708104\n",
       "2115                          PMC3713766\n",
       "2116                          PMC3819359\n",
       "2117                         PMC3773237 \n",
       "2118                         PMC3815011 \n",
       "2119                          PMC3805356\n",
       "2120                               Epub \n",
       "2121                          PMC3707567\n",
       "2122                             2901593\n",
       "2123                             3748854\n",
       "2124                             3785148\n",
       "2125            PMCID:\\n    PMC3647051\\n\n",
       "2126    PMID: 23846567  (Epub July 2013)\n",
       "Name: pmid_pmcid, Length: 2127, dtype: object"
      ]
     },
     "execution_count": 11,
     "metadata": {},
     "output_type": "execute_result"
    }
   ],
   "source": [
    "apc_data['pmid_pmcid']"
   ]
  },
  {
   "cell_type": "code",
   "execution_count": 12,
   "metadata": {},
   "outputs": [
    {
     "data": {
      "text/plain": [
       "array([nan, 'PMC3679557', '23043264  PMC3506128 ', ..., '3748854',\n",
       "       '3785148', 'PMID: 23846567  (Epub July 2013)'], dtype=object)"
      ]
     },
     "execution_count": 12,
     "metadata": {},
     "output_type": "execute_result"
    }
   ],
   "source": [
    "apc_data['pmid_pmcid'].unique()"
   ]
  },
  {
   "cell_type": "code",
   "execution_count": 13,
   "metadata": {},
   "outputs": [
    {
     "data": {
      "text/html": [
       "<div>\n",
       "<style scoped>\n",
       "    .dataframe tbody tr th:only-of-type {\n",
       "        vertical-align: middle;\n",
       "    }\n",
       "\n",
       "    .dataframe tbody tr th {\n",
       "        vertical-align: top;\n",
       "    }\n",
       "\n",
       "    .dataframe thead th {\n",
       "        text-align: right;\n",
       "    }\n",
       "</style>\n",
       "<table border=\"1\" class=\"dataframe\">\n",
       "  <thead>\n",
       "    <tr style=\"text-align: right;\">\n",
       "      <th></th>\n",
       "      <th>pmid_pmcid</th>\n",
       "      <th>publisher</th>\n",
       "      <th>journal_title</th>\n",
       "      <th>article_title</th>\n",
       "      <th>cost</th>\n",
       "    </tr>\n",
       "  </thead>\n",
       "  <tbody>\n",
       "    <tr>\n",
       "      <th>0</th>\n",
       "      <td>NaN</td>\n",
       "      <td>CUP</td>\n",
       "      <td>Psychological Medicine</td>\n",
       "      <td>Reduced parahippocampal cortical thickness in ...</td>\n",
       "      <td>£0.00</td>\n",
       "    </tr>\n",
       "    <tr>\n",
       "      <th>1</th>\n",
       "      <td>PMC3679557</td>\n",
       "      <td>ACS</td>\n",
       "      <td>Biomacromolecules</td>\n",
       "      <td>Structural characterization of a Model Gram-ne...</td>\n",
       "      <td>£2381.04</td>\n",
       "    </tr>\n",
       "    <tr>\n",
       "      <th>2</th>\n",
       "      <td>23043264  PMC3506128</td>\n",
       "      <td>ACS</td>\n",
       "      <td>J Med Chem</td>\n",
       "      <td>Fumaroylamino-4,5-epoxymorphinans and related ...</td>\n",
       "      <td>£642.56</td>\n",
       "    </tr>\n",
       "    <tr>\n",
       "      <th>3</th>\n",
       "      <td>23438330 PMC3646402</td>\n",
       "      <td>ACS</td>\n",
       "      <td>J Med Chem</td>\n",
       "      <td>Orvinols with mixed kappa/mu opioid receptor a...</td>\n",
       "      <td>£669.64</td>\n",
       "    </tr>\n",
       "    <tr>\n",
       "      <th>4</th>\n",
       "      <td>23438216 PMC3601604</td>\n",
       "      <td>ACS</td>\n",
       "      <td>J Org Chem</td>\n",
       "      <td>Regioselective opening of myo-inositol orthoes...</td>\n",
       "      <td>£685.88</td>\n",
       "    </tr>\n",
       "  </tbody>\n",
       "</table>\n",
       "</div>"
      ],
      "text/plain": [
       "              pmid_pmcid publisher           journal_title  \\\n",
       "0                    NaN       CUP  Psychological Medicine   \n",
       "1             PMC3679557       ACS       Biomacromolecules   \n",
       "2  23043264  PMC3506128        ACS              J Med Chem   \n",
       "3    23438330 PMC3646402       ACS              J Med Chem   \n",
       "4   23438216 PMC3601604        ACS              J Org Chem   \n",
       "\n",
       "                                       article_title      cost  \n",
       "0  Reduced parahippocampal cortical thickness in ...     £0.00  \n",
       "1  Structural characterization of a Model Gram-ne...  £2381.04  \n",
       "2  Fumaroylamino-4,5-epoxymorphinans and related ...   £642.56  \n",
       "3  Orvinols with mixed kappa/mu opioid receptor a...   £669.64  \n",
       "4  Regioselective opening of myo-inositol orthoes...   £685.88  "
      ]
     },
     "execution_count": 13,
     "metadata": {},
     "output_type": "execute_result"
    }
   ],
   "source": [
    "apc_data.head()"
   ]
  },
  {
   "cell_type": "code",
   "execution_count": 14,
   "metadata": {},
   "outputs": [
    {
     "data": {
      "text/plain": [
       "(299,)"
      ]
     },
     "execution_count": 14,
     "metadata": {},
     "output_type": "execute_result"
    }
   ],
   "source": [
    "apc_data['publisher'].unique().shape"
   ]
  },
  {
   "cell_type": "code",
   "execution_count": 15,
   "metadata": {},
   "outputs": [],
   "source": [
    "#striped it off spaces from right and left\n",
    "apc_data['publisher']= apc_data['publisher'].str.strip()"
   ]
  },
  {
   "cell_type": "code",
   "execution_count": 16,
   "metadata": {},
   "outputs": [],
   "source": [
    "#turn the value to lower caps\n",
    "apc_data['publisher'] = apc_data['publisher'].str.lower()"
   ]
  },
  {
   "cell_type": "code",
   "execution_count": 17,
   "metadata": {},
   "outputs": [
    {
     "data": {
      "text/plain": [
       "(254,)"
      ]
     },
     "execution_count": 17,
     "metadata": {},
     "output_type": "execute_result"
    }
   ],
   "source": [
    "apc_data['publisher'].unique().shape"
   ]
  },
  {
   "cell_type": "code",
   "execution_count": 21,
   "metadata": {},
   "outputs": [],
   "source": [
    "apc_data['publisher'] = apc_data['publisher'].str.replace('(', '').str.replace(')', '').str.replace('publications','').str.rstrip().str.replace('^acs$', 'american chemical society').str.replace('^acs', '').str.replace('amercian','american').str.lstrip()"
   ]
  },
  {
   "cell_type": "code",
   "execution_count": 22,
   "metadata": {},
   "outputs": [],
   "source": [
    "#continue with the cleaning the publisher column\n",
    "apc_data['publisher'] = apc_data['publisher'].str.replace('h.matology', 'haematology').str.replace('american\\ss.c\\s', 'american society ').str.replace('bio.gy','biology')"
   ]
  },
  {
   "cell_type": "code",
   "execution_count": 23,
   "metadata": {},
   "outputs": [
    {
     "data": {
      "text/html": [
       "<div>\n",
       "<style scoped>\n",
       "    .dataframe tbody tr th:only-of-type {\n",
       "        vertical-align: middle;\n",
       "    }\n",
       "\n",
       "    .dataframe tbody tr th {\n",
       "        vertical-align: top;\n",
       "    }\n",
       "\n",
       "    .dataframe thead th {\n",
       "        text-align: right;\n",
       "    }\n",
       "</style>\n",
       "<table border=\"1\" class=\"dataframe\">\n",
       "  <thead>\n",
       "    <tr style=\"text-align: right;\">\n",
       "      <th></th>\n",
       "      <th>pmid_pmcid</th>\n",
       "      <th>publisher</th>\n",
       "      <th>journal_title</th>\n",
       "      <th>article_title</th>\n",
       "      <th>cost</th>\n",
       "    </tr>\n",
       "  </thead>\n",
       "  <tbody>\n",
       "    <tr>\n",
       "      <th>165</th>\n",
       "      <td>3811811</td>\n",
       "      <td>asm</td>\n",
       "      <td>Infection and Immunity</td>\n",
       "      <td>Zebrafish as a novel vertebrate model to disse...</td>\n",
       "      <td>£1529.54</td>\n",
       "    </tr>\n",
       "    <tr>\n",
       "      <th>166</th>\n",
       "      <td>PMC3571495</td>\n",
       "      <td>asm</td>\n",
       "      <td>Journal of Virology</td>\n",
       "      <td>Estimating the Rate of Intersubtype Recombinat...</td>\n",
       "      <td>£1901.79</td>\n",
       "    </tr>\n",
       "  </tbody>\n",
       "</table>\n",
       "</div>"
      ],
      "text/plain": [
       "     pmid_pmcid publisher           journal_title  \\\n",
       "165     3811811       asm  Infection and Immunity   \n",
       "166  PMC3571495       asm     Journal of Virology   \n",
       "\n",
       "                                         article_title      cost  \n",
       "165  Zebrafish as a novel vertebrate model to disse...  £1529.54  \n",
       "166  Estimating the Rate of Intersubtype Recombinat...  £1901.79  "
      ]
     },
     "execution_count": 23,
     "metadata": {},
     "output_type": "execute_result"
    }
   ],
   "source": [
    "apc_data[apc_data.publisher=='asm']\n"
   ]
  },
  {
   "cell_type": "code",
   "execution_count": 24,
   "metadata": {},
   "outputs": [],
   "source": [
    "apc_data['publisher'] = apc_data['publisher'].str.replace('asbmb/cenveo publisher services','asbmb').str.replace('asbmb cadmus', 'asbmb').str.replace('asbmb/cadmus', 'asbmb').str.replace('ambsb','asbmb').str.replace('asbmc /cenveo', 'asbmb')"
   ]
  },
  {
   "cell_type": "code",
   "execution_count": 25,
   "metadata": {},
   "outputs": [],
   "source": [
    "apc_data['publisher'] = apc_data['publisher'].str.replace('asbmb', 'american society for biochemistry and molecular biology')"
   ]
  },
  {
   "cell_type": "code",
   "execution_count": 26,
   "metadata": {},
   "outputs": [],
   "source": [
    "#apc_data['publisher'].str.replace('asm\\s?.','american society for microbiology ').str.lstrip().unique()"
   ]
  },
  {
   "cell_type": "code",
   "execution_count": 27,
   "metadata": {},
   "outputs": [],
   "source": [
    "apc_data['publisher'] = apc_data['publisher'].str.replace('benthan', 'bentham').str.replace('biomed central ltd', 'biomed central').str.replace('biomed central limited', 'biomed central')"
   ]
  },
  {
   "cell_type": "code",
   "execution_count": 28,
   "metadata": {},
   "outputs": [],
   "source": [
    "apc_data['publisher'] = apc_data['publisher'].str.replace('byophysical society', 'biophysical society').str.replace('bmj\\sgroup','bmj').str.replace('bmj\\sjournals','bmj').str.replace('bmj\\spublishing\\sgroup','bmj').str.replace('bmj\\spublishing\\sgroup\\sltd','bmj').str.replace('bmj\\spublishing\\sgroup\\sltd\\s&\\sbritish\\sthoracic\\ssociety','bmj').str.replace('bmj\\sltd\\s&\\sbritish\\sthoracic\\ssociety','bmj').str.replace('bmj\\sltd','bmj')"
   ]
  },
  {
   "cell_type": "code",
   "execution_count": 31,
   "metadata": {},
   "outputs": [
    {
     "data": {
      "text/plain": [
       "array(['cup', 'american chemical society', 'aga institute',\n",
       "       'american society for biochemistry and molecular biology',\n",
       "       'american association of immunologists',\n",
       "       'american college of chest physicians',\n",
       "       'american physiological society',\n",
       "       'american psychiatric association',\n",
       "       'american psychiatric publishing',\n",
       "       'american psychological association',\n",
       "       'american public health association',\n",
       "       'american society for investigative pathology',\n",
       "       'american society for microbiology',\n",
       "       'american society for nutrition',\n",
       "       'american society of haematology',\n",
       "       'american society of human genetics elsevier',\n",
       "       'american society of microbiology',\n",
       "       'american speech-language-hearing association', 'asm',\n",
       "       'asm american society for microbiology',\n",
       "       'association for research in vision & ophthalmology',\n",
       "       'bentham science publishers', 'berhahn books', 'biochem journal',\n",
       "       'biomed central', 'biophysical society', 'bioscientifica',\n",
       "       'blackwell publishing ltd/wiley', 'bmc', 'british medical journal',\n",
       "       'brill', 'cadmus', 'cadmus journal service',\n",
       "       'cadmus journal services', 'cambridge journals',\n",
       "       'cambridge uni press', 'cambridge univ press',\n",
       "       'cambridge university press', 'camdus journal services',\n",
       "       'cell press', 'cenveo publisher services',\n",
       "       'cenveo publisher services/asm jv1', 'coaction',\n",
       "       'cold spring habour press', 'cold spring harbor',\n",
       "       'cold spring harbor laboratory press', 'cold spring harbor press',\n",
       "       'company of biologist', 'company of biologists',\n",
       "       'company of biologists ltd', 'copyright clearace center', 'cshlp',\n",
       "       'darmouth journal services', 'dartmouth journal services',\n",
       "       'dartmouth journals', 'elseveier science', 'elsevier',\n",
       "       'elsevier cell press', 'elsevier / cell science', 'elsevier b.v.',\n",
       "       'elsevier ltd', 'elsevier/cell press', 'endocrine society',\n",
       "       'european respiratory society', 'european society of endocrinolog',\n",
       "       'faseb',\n",
       "       'federation of american societies for experimental biology',\n",
       "       'federation of american societies for experimental biology faseb',\n",
       "       'federation of the american society of experimental biology',\n",
       "       'ferrata storti foundation', 'frontiers', 'frontiers media',\n",
       "       'frontiers media sa', 'frontiers research foundation',\n",
       "       'future medicine', 'future medicine ltd', 'future science',\n",
       "       'hindawi', 'hindawi publishing corporation',\n",
       "       'humana press springer imprint', 'impact journals',\n",
       "       'impact journals llc', 'informa healthcare',\n",
       "       'informa healthcare communications', 'institute of physics',\n",
       "       'international aids society',\n",
       "       'international union against tuberculosis and lung disease',\n",
       "       'international union of crystallography',\n",
       "       'international union of crystallography iucr', 'iop publishing',\n",
       "       'ios press', 'ivyspring international publisher',\n",
       "       'j med internet research', 'john wiley', 'john wiley & sons',\n",
       "       'john wiley & sons inc', 'john wiley & sons ltd',\n",
       "       'john wiley & sons, inc.', 'john wiley and sons',\n",
       "       'john wiley and sons ltd', 'johns hopkins university press',\n",
       "       'journal of the american physiological proceedings of national academy of sciences',\n",
       "       'journal of visualized experiments', 'jove', 'jscimed central',\n",
       "       'karger', 'landes bioscience', 'landes biosciences', 'lww',\n",
       "       'macmillan', 'mary ann liebert', 'mary ann liebert inc',\n",
       "       'mary ann liebert, inc. publishers', 'mdpi', 'mit press',\n",
       "       'mit press open access', 'my jove corp', 'my jove corporation',\n",
       "       'myjove corporation', 'national academy of sciences',\n",
       "       'national academy of sciences of the united states of america',\n",
       "       'national academy of sciences usa',\n",
       "       'national academy of sciences, usa', 'nature', 'nature pg',\n",
       "       'nature publishing', 'nature publishing group',\n",
       "       'nature publishing group ltd', 'npg', 'open access reg ltd',\n",
       "       'optical society of america', 'oup', 'oxford journals',\n",
       "       'oxford journals oup', 'oxford univ press',\n",
       "       'oxford university press', 'oxford university press oup',\n",
       "       'oxford univesity press', 'palgrave macmillan', 'pion', 'plos',\n",
       "       'plos public library of science', 'pnas',\n",
       "       'pnas author publication', 'policy press', 'portland press',\n",
       "       'portland press ltd',\n",
       "       'proceedings of the national academy of sciences pnas',\n",
       "       'public library of science', 'public.service.co.uk',\n",
       "       'publisher society for endocrinology', 'pubmed', 'pubmed central',\n",
       "       'research media ltd', 'royal college of psychiatrists',\n",
       "       'royal society', 'royal society for chemistry',\n",
       "       'royal society of chemistry', 'rsc', 'rsc publishing', 'sage',\n",
       "       'sage  inc', 'sage  ltd', 'sage publishers', 'sage publishing',\n",
       "       'sciedu press', 'scientific research publishing', 'sheridan press',\n",
       "       'society for endocrinology', 'society for general microbiology',\n",
       "       'society for genermal microbiology',\n",
       "       'society for leukocyte biology', 'society for neuroscience',\n",
       "       'society for neurosciences',\n",
       "       'society for publication of acta dermato-venereologica',\n",
       "       'society of general microbiology', 'society of leukocyte biology',\n",
       "       'society of neuro sciences', 'society of neuroscience', 'springer',\n",
       "       'springer - verlag gmbh', 'springer science + business media',\n",
       "       'springer verlag', 'springer-veriag gmbh', 'springer-verlag gmbh',\n",
       "       'springer-verlag gmbh & ci',\n",
       "       'springer-verlag gmbh, heidelberger platz 3, d-14197 berlin',\n",
       "       't&f', 'taylor & francis', 'taylor & francis journals',\n",
       "       'taylor and francis',\n",
       "       'the american chemical society petroleum research trust',\n",
       "       'the american physiological society',\n",
       "       'the american society for biochemistry and molecular biology',\n",
       "       'the american society for biochemistry and molecular biology, inc',\n",
       "       'the american society of pediatrics', 'the boulevard',\n",
       "       'the company of biolgists', 'the company of biologists',\n",
       "       'the company of biologists ltd', 'the endocrine socety',\n",
       "       'the endocrine society', 'the endrocrine society',\n",
       "       'the journal of visualized experiments',\n",
       "       'the royal college of psychiatrists', 'the royal society',\n",
       "       'the sheridan press', 'transcript verlag',\n",
       "       'university of the basque country press', 'wiley', 'wiley & son',\n",
       "       'wiley blackwell', 'wiley online library',\n",
       "       'wiley subscription services', 'wiley subscription services  inc.',\n",
       "       'wiley subscription services inc',\n",
       "       'wiley subscription serviices inc', 'wiley vch', 'wiley/blackwell',\n",
       "       'wiley-blackwell', 'wiley-blackwell, john wiley & sons',\n",
       "       'wiley-vch', 'wliey-blackwell', 'wolters kluwer',\n",
       "       'wolters kluwer health', 'wolters kluwer n.v./lippinott',\n",
       "       'wolters kluwers'], dtype=object)"
      ]
     },
     "execution_count": 31,
     "metadata": {},
     "output_type": "execute_result"
    }
   ],
   "source": [
    "apc_data['publisher'].str.replace('bmj', 'british medical journal').unique()"
   ]
  },
  {
   "cell_type": "code",
   "execution_count": 39,
   "metadata": {},
   "outputs": [
    {
     "data": {
      "text/html": [
       "<div>\n",
       "<style scoped>\n",
       "    .dataframe tbody tr th:only-of-type {\n",
       "        vertical-align: middle;\n",
       "    }\n",
       "\n",
       "    .dataframe tbody tr th {\n",
       "        vertical-align: top;\n",
       "    }\n",
       "\n",
       "    .dataframe thead th {\n",
       "        text-align: right;\n",
       "    }\n",
       "</style>\n",
       "<table border=\"1\" class=\"dataframe\">\n",
       "  <thead>\n",
       "    <tr style=\"text-align: right;\">\n",
       "      <th></th>\n",
       "      <th>pmid_pmcid</th>\n",
       "      <th>publisher</th>\n",
       "      <th>journal_title</th>\n",
       "      <th>article_title</th>\n",
       "      <th>cost</th>\n",
       "    </tr>\n",
       "  </thead>\n",
       "  <tbody>\n",
       "    <tr>\n",
       "      <th>335</th>\n",
       "      <td>3736666</td>\n",
       "      <td>british medical journal</td>\n",
       "      <td>BMJ open</td>\n",
       "      <td>Psychosocial and Educational Outcomes of Weigh...</td>\n",
       "      <td>£1275.00</td>\n",
       "    </tr>\n",
       "    <tr>\n",
       "      <th>336</th>\n",
       "      <td>3736666</td>\n",
       "      <td>british medical journal</td>\n",
       "      <td>Journal of Neurology, Neurosurgery and Psychiatry</td>\n",
       "      <td>Flavour identification in frontotemporal lobar...</td>\n",
       "      <td>£2040.00</td>\n",
       "    </tr>\n",
       "  </tbody>\n",
       "</table>\n",
       "</div>"
      ],
      "text/plain": [
       "    pmid_pmcid                publisher  \\\n",
       "335    3736666  british medical journal   \n",
       "336    3736666  british medical journal   \n",
       "\n",
       "                                         journal_title  \\\n",
       "335                                           BMJ open   \n",
       "336  Journal of Neurology, Neurosurgery and Psychiatry   \n",
       "\n",
       "                                         article_title      cost  \n",
       "335  Psychosocial and Educational Outcomes of Weigh...  £1275.00  \n",
       "336  Flavour identification in frontotemporal lobar...  £2040.00  "
      ]
     },
     "execution_count": 39,
     "metadata": {},
     "output_type": "execute_result"
    }
   ],
   "source": [
    "apc_data[apc_data.publisher=='british medical journal']"
   ]
  },
  {
   "cell_type": "code",
   "execution_count": null,
   "metadata": {},
   "outputs": [],
   "source": []
  },
  {
   "cell_type": "code",
   "execution_count": null,
   "metadata": {},
   "outputs": [],
   "source": []
  }
 ],
 "metadata": {
  "kernelspec": {
   "display_name": "Python 3",
   "language": "python",
   "name": "python3"
  },
  "language_info": {
   "codemirror_mode": {
    "name": "ipython",
    "version": 3
   },
   "file_extension": ".py",
   "mimetype": "text/x-python",
   "name": "python",
   "nbconvert_exporter": "python",
   "pygments_lexer": "ipython3",
   "version": "3.6.5"
  }
 },
 "nbformat": 4,
 "nbformat_minor": 2
}
