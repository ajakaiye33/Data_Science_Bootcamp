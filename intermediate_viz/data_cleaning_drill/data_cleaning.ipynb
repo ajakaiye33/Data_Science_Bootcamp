{
 "cells": [
  {
   "cell_type": "markdown",
   "metadata": {
    "collapsed": true
   },
   "source": [
    "### Welcome Trust Open-Access Funding Between 2012-2013"
   ]
  },
  {
   "cell_type": "markdown",
   "metadata": {},
   "source": [
    "Data in their natural form rarely come sqeaky-clean. Often time they are passed through the 'laundary machine' that rid them of all impurities before they can be analysed and meaning insight drawn from them. The 'Laundary machine' are the various techniques employed to clean and purify the data of all impurities and dirt.\n",
    "\n",
    "In this project we used some of those techniques.\n",
    "\n",
    "The data set is about the open-access prices paid by the [WELCOME Trust between 2012 and 2013]('https://www.dropbox.com/s/19cjdi7wqhlfcpt/WELLCOME.zip?dl=0')\n",
    "\n",
    "The dataset contains the following elements:\n",
    "* **PMC ID/PMID**\n",
    "To help the Trust identify whether a work is in PMC/Europe PMC, we ask institutions to cite the PMC ID (or the PubMed ID if a PMC ID is not known.  This data is  not always 100% accurate.\n",
    "* **Publisher**\n",
    "This lists the name of the publisher, as reported by the institution.  As we do not impose any name authority control on this field, you will see the same publisher listed in different ways.  For example, OUP, Oxford University Press, and O.U.P.\n",
    "* **Journal name**\n",
    "This lists the name of the journal (which published the Wellcome-funded work), as reported by the institution.  Again, as we not impose any name authority control on this, you will see the same journal listed in different ways.  For example, PNAS, Proceedings of the National Academy of Sciences, P.N.A.S.\n",
    "Article title\n",
    "This is the title of the article, as reported by the institution.\n",
    "* **Cost**\n",
    "The cost listed is the figure which the institution is claiming from the Wellcome Trust grant \n",
    "\n",
    "Our objectives are:\n",
    "* Determine the five most common journals and the total articles for each\n",
    "* Calculate the mean, median and standard deviation of the open-access cost per article for each journal"
   ]
  },
  {
   "cell_type": "code",
   "execution_count": 615,
   "metadata": {},
   "outputs": [],
   "source": [
    "import pandas as pd\n",
    "import matplotlib.pyplot as plt\n",
    "import seaborn as sns\n",
    "%matplotlib inline"
   ]
  },
  {
   "cell_type": "code",
   "execution_count": 616,
   "metadata": {},
   "outputs": [],
   "source": [
    "plt.rcParams['figure.figsize'] = (20.0, 10.0)"
   ]
  },
  {
   "cell_type": "code",
   "execution_count": 617,
   "metadata": {},
   "outputs": [],
   "source": [
    "#to overcome the unicode that cant be converted we used unicode escapeunder encoding\n",
    "apc_data = pd.read_csv('apcspend.csv', encoding='unicode_escape')"
   ]
  },
  {
   "cell_type": "code",
   "execution_count": 618,
   "metadata": {},
   "outputs": [
    {
     "data": {
      "text/html": [
       "<div>\n",
       "<style scoped>\n",
       "    .dataframe tbody tr th:only-of-type {\n",
       "        vertical-align: middle;\n",
       "    }\n",
       "\n",
       "    .dataframe tbody tr th {\n",
       "        vertical-align: top;\n",
       "    }\n",
       "\n",
       "    .dataframe thead th {\n",
       "        text-align: right;\n",
       "    }\n",
       "</style>\n",
       "<table border=\"1\" class=\"dataframe\">\n",
       "  <thead>\n",
       "    <tr style=\"text-align: right;\">\n",
       "      <th></th>\n",
       "      <th>PMID/PMCID</th>\n",
       "      <th>Publisher</th>\n",
       "      <th>Journal title</th>\n",
       "      <th>Article title</th>\n",
       "      <th>COST (£) charged to Wellcome (inc VAT when charged)</th>\n",
       "    </tr>\n",
       "  </thead>\n",
       "  <tbody>\n",
       "    <tr>\n",
       "      <th>0</th>\n",
       "      <td>NaN</td>\n",
       "      <td>CUP</td>\n",
       "      <td>Psychological Medicine</td>\n",
       "      <td>Reduced parahippocampal cortical thickness in ...</td>\n",
       "      <td>£0.00</td>\n",
       "    </tr>\n",
       "    <tr>\n",
       "      <th>1</th>\n",
       "      <td>PMC3679557</td>\n",
       "      <td>ACS</td>\n",
       "      <td>Biomacromolecules</td>\n",
       "      <td>Structural characterization of a Model Gram-ne...</td>\n",
       "      <td>£2381.04</td>\n",
       "    </tr>\n",
       "    <tr>\n",
       "      <th>2</th>\n",
       "      <td>23043264  PMC3506128</td>\n",
       "      <td>ACS</td>\n",
       "      <td>J Med Chem</td>\n",
       "      <td>Fumaroylamino-4,5-epoxymorphinans and related ...</td>\n",
       "      <td>£642.56</td>\n",
       "    </tr>\n",
       "    <tr>\n",
       "      <th>3</th>\n",
       "      <td>23438330 PMC3646402</td>\n",
       "      <td>ACS</td>\n",
       "      <td>J Med Chem</td>\n",
       "      <td>Orvinols with mixed kappa/mu opioid receptor a...</td>\n",
       "      <td>£669.64</td>\n",
       "    </tr>\n",
       "    <tr>\n",
       "      <th>4</th>\n",
       "      <td>23438216 PMC3601604</td>\n",
       "      <td>ACS</td>\n",
       "      <td>J Org Chem</td>\n",
       "      <td>Regioselective opening of myo-inositol orthoes...</td>\n",
       "      <td>£685.88</td>\n",
       "    </tr>\n",
       "  </tbody>\n",
       "</table>\n",
       "</div>"
      ],
      "text/plain": [
       "              PMID/PMCID Publisher           Journal title  \\\n",
       "0                    NaN       CUP  Psychological Medicine   \n",
       "1             PMC3679557       ACS       Biomacromolecules   \n",
       "2  23043264  PMC3506128        ACS              J Med Chem   \n",
       "3    23438330 PMC3646402       ACS              J Med Chem   \n",
       "4   23438216 PMC3601604        ACS              J Org Chem   \n",
       "\n",
       "                                       Article title  \\\n",
       "0  Reduced parahippocampal cortical thickness in ...   \n",
       "1  Structural characterization of a Model Gram-ne...   \n",
       "2  Fumaroylamino-4,5-epoxymorphinans and related ...   \n",
       "3  Orvinols with mixed kappa/mu opioid receptor a...   \n",
       "4  Regioselective opening of myo-inositol orthoes...   \n",
       "\n",
       "  COST (£) charged to Wellcome (inc VAT when charged)  \n",
       "0                                              £0.00   \n",
       "1                                           £2381.04   \n",
       "2                                            £642.56   \n",
       "3                                            £669.64   \n",
       "4                                            £685.88   "
      ]
     },
     "execution_count": 618,
     "metadata": {},
     "output_type": "execute_result"
    }
   ],
   "source": [
    "apc_data.head()"
   ]
  },
  {
   "cell_type": "code",
   "execution_count": 619,
   "metadata": {},
   "outputs": [
    {
     "data": {
      "text/html": [
       "<div>\n",
       "<style scoped>\n",
       "    .dataframe tbody tr th:only-of-type {\n",
       "        vertical-align: middle;\n",
       "    }\n",
       "\n",
       "    .dataframe tbody tr th {\n",
       "        vertical-align: top;\n",
       "    }\n",
       "\n",
       "    .dataframe thead th {\n",
       "        text-align: right;\n",
       "    }\n",
       "</style>\n",
       "<table border=\"1\" class=\"dataframe\">\n",
       "  <thead>\n",
       "    <tr style=\"text-align: right;\">\n",
       "      <th></th>\n",
       "      <th>PMID/PMCID</th>\n",
       "      <th>Publisher</th>\n",
       "      <th>Journal title</th>\n",
       "      <th>Article title</th>\n",
       "      <th>COST (£) charged to Wellcome (inc VAT when charged)</th>\n",
       "    </tr>\n",
       "  </thead>\n",
       "  <tbody>\n",
       "    <tr>\n",
       "      <th>2122</th>\n",
       "      <td>2901593</td>\n",
       "      <td>Wolters Kluwer Health</td>\n",
       "      <td>Circulation Research</td>\n",
       "      <td>Mechanistic Links Between Na+ Channel (SCN5A) ...</td>\n",
       "      <td>£1334.15</td>\n",
       "    </tr>\n",
       "    <tr>\n",
       "      <th>2123</th>\n",
       "      <td>3748854</td>\n",
       "      <td>Wolters Kluwer Health</td>\n",
       "      <td>AIDS</td>\n",
       "      <td>Evaluation of an empiric risk screening score ...</td>\n",
       "      <td>£1834.77</td>\n",
       "    </tr>\n",
       "    <tr>\n",
       "      <th>2124</th>\n",
       "      <td>3785148</td>\n",
       "      <td>Wolters Kluwer Health</td>\n",
       "      <td>Pediatr Infect Dis J</td>\n",
       "      <td>Topical umbilical cord care for prevention of ...</td>\n",
       "      <td>£1834.77</td>\n",
       "    </tr>\n",
       "    <tr>\n",
       "      <th>2125</th>\n",
       "      <td>PMCID:\\n    PMC3647051\\n</td>\n",
       "      <td>Wolters Kluwer N.V./Lippinott</td>\n",
       "      <td>AIDS</td>\n",
       "      <td>Grassroots Community Organisations' Contributi...</td>\n",
       "      <td>£2374.52</td>\n",
       "    </tr>\n",
       "    <tr>\n",
       "      <th>2126</th>\n",
       "      <td>PMID: 23846567  (Epub July 2013)</td>\n",
       "      <td>Wolters Kluwers</td>\n",
       "      <td>Journal of Acquired Immune Deficiency Syndromes</td>\n",
       "      <td>A novel community health worker tool outperfor...</td>\n",
       "      <td>£2034.75</td>\n",
       "    </tr>\n",
       "  </tbody>\n",
       "</table>\n",
       "</div>"
      ],
      "text/plain": [
       "                            PMID/PMCID                      Publisher  \\\n",
       "2122                           2901593          Wolters Kluwer Health   \n",
       "2123                           3748854         Wolters Kluwer Health    \n",
       "2124                           3785148         Wolters Kluwer Health    \n",
       "2125          PMCID:\\n    PMC3647051\\n  Wolters Kluwer N.V./Lippinott   \n",
       "2126  PMID: 23846567  (Epub July 2013)                Wolters Kluwers   \n",
       "\n",
       "                                        Journal title  \\\n",
       "2122                             Circulation Research   \n",
       "2123                                             AIDS   \n",
       "2124                             Pediatr Infect Dis J   \n",
       "2125                                             AIDS   \n",
       "2126  Journal of Acquired Immune Deficiency Syndromes   \n",
       "\n",
       "                                          Article title  \\\n",
       "2122  Mechanistic Links Between Na+ Channel (SCN5A) ...   \n",
       "2123  Evaluation of an empiric risk screening score ...   \n",
       "2124  Topical umbilical cord care for prevention of ...   \n",
       "2125  Grassroots Community Organisations' Contributi...   \n",
       "2126  A novel community health worker tool outperfor...   \n",
       "\n",
       "     COST (£) charged to Wellcome (inc VAT when charged)  \n",
       "2122                                           £1334.15   \n",
       "2123                                           £1834.77   \n",
       "2124                                           £1834.77   \n",
       "2125                                           £2374.52   \n",
       "2126                                           £2034.75   "
      ]
     },
     "execution_count": 619,
     "metadata": {},
     "output_type": "execute_result"
    }
   ],
   "source": [
    "apc_data.tail()"
   ]
  },
  {
   "cell_type": "code",
   "execution_count": 620,
   "metadata": {},
   "outputs": [
    {
     "data": {
      "text/plain": [
       "Index(['PMID/PMCID', 'Publisher', 'Journal title', 'Article title',\n",
       "       'COST (£) charged to Wellcome (inc VAT when charged)'],\n",
       "      dtype='object')"
      ]
     },
     "execution_count": 620,
     "metadata": {},
     "output_type": "execute_result"
    }
   ],
   "source": [
    "apc_data.columns"
   ]
  },
  {
   "cell_type": "code",
   "execution_count": 621,
   "metadata": {},
   "outputs": [],
   "source": [
    "apc_data = apc_data.rename(columns = {'PMID/PMCID':'pmid_pmcid', 'Publisher':'publisher', 'Journal title':'journal_title','Article title':'article_title', 'COST (£) charged to Wellcome (inc VAT when charged)':'cost'})"
   ]
  },
  {
   "cell_type": "code",
   "execution_count": 622,
   "metadata": {},
   "outputs": [
    {
     "data": {
      "text/html": [
       "<div>\n",
       "<style scoped>\n",
       "    .dataframe tbody tr th:only-of-type {\n",
       "        vertical-align: middle;\n",
       "    }\n",
       "\n",
       "    .dataframe tbody tr th {\n",
       "        vertical-align: top;\n",
       "    }\n",
       "\n",
       "    .dataframe thead th {\n",
       "        text-align: right;\n",
       "    }\n",
       "</style>\n",
       "<table border=\"1\" class=\"dataframe\">\n",
       "  <thead>\n",
       "    <tr style=\"text-align: right;\">\n",
       "      <th></th>\n",
       "      <th>pmid_pmcid</th>\n",
       "      <th>publisher</th>\n",
       "      <th>journal_title</th>\n",
       "      <th>article_title</th>\n",
       "      <th>cost</th>\n",
       "    </tr>\n",
       "  </thead>\n",
       "  <tbody>\n",
       "    <tr>\n",
       "      <th>0</th>\n",
       "      <td>NaN</td>\n",
       "      <td>CUP</td>\n",
       "      <td>Psychological Medicine</td>\n",
       "      <td>Reduced parahippocampal cortical thickness in ...</td>\n",
       "      <td>£0.00</td>\n",
       "    </tr>\n",
       "    <tr>\n",
       "      <th>1</th>\n",
       "      <td>PMC3679557</td>\n",
       "      <td>ACS</td>\n",
       "      <td>Biomacromolecules</td>\n",
       "      <td>Structural characterization of a Model Gram-ne...</td>\n",
       "      <td>£2381.04</td>\n",
       "    </tr>\n",
       "    <tr>\n",
       "      <th>2</th>\n",
       "      <td>23043264  PMC3506128</td>\n",
       "      <td>ACS</td>\n",
       "      <td>J Med Chem</td>\n",
       "      <td>Fumaroylamino-4,5-epoxymorphinans and related ...</td>\n",
       "      <td>£642.56</td>\n",
       "    </tr>\n",
       "    <tr>\n",
       "      <th>3</th>\n",
       "      <td>23438330 PMC3646402</td>\n",
       "      <td>ACS</td>\n",
       "      <td>J Med Chem</td>\n",
       "      <td>Orvinols with mixed kappa/mu opioid receptor a...</td>\n",
       "      <td>£669.64</td>\n",
       "    </tr>\n",
       "    <tr>\n",
       "      <th>4</th>\n",
       "      <td>23438216 PMC3601604</td>\n",
       "      <td>ACS</td>\n",
       "      <td>J Org Chem</td>\n",
       "      <td>Regioselective opening of myo-inositol orthoes...</td>\n",
       "      <td>£685.88</td>\n",
       "    </tr>\n",
       "  </tbody>\n",
       "</table>\n",
       "</div>"
      ],
      "text/plain": [
       "              pmid_pmcid publisher           journal_title  \\\n",
       "0                    NaN       CUP  Psychological Medicine   \n",
       "1             PMC3679557       ACS       Biomacromolecules   \n",
       "2  23043264  PMC3506128        ACS              J Med Chem   \n",
       "3    23438330 PMC3646402       ACS              J Med Chem   \n",
       "4   23438216 PMC3601604        ACS              J Org Chem   \n",
       "\n",
       "                                       article_title      cost  \n",
       "0  Reduced parahippocampal cortical thickness in ...     £0.00  \n",
       "1  Structural characterization of a Model Gram-ne...  £2381.04  \n",
       "2  Fumaroylamino-4,5-epoxymorphinans and related ...   £642.56  \n",
       "3  Orvinols with mixed kappa/mu opioid receptor a...   £669.64  \n",
       "4  Regioselective opening of myo-inositol orthoes...   £685.88  "
      ]
     },
     "execution_count": 622,
     "metadata": {},
     "output_type": "execute_result"
    }
   ],
   "source": [
    "apc_data.head()"
   ]
  },
  {
   "cell_type": "code",
   "execution_count": 623,
   "metadata": {},
   "outputs": [
    {
     "name": "stdout",
     "output_type": "stream",
     "text": [
      "<class 'pandas.core.frame.DataFrame'>\n",
      "RangeIndex: 2127 entries, 0 to 2126\n",
      "Data columns (total 5 columns):\n",
      "pmid_pmcid       1928 non-null object\n",
      "publisher        2127 non-null object\n",
      "journal_title    2126 non-null object\n",
      "article_title    2127 non-null object\n",
      "cost             2127 non-null object\n",
      "dtypes: object(5)\n",
      "memory usage: 83.2+ KB\n"
     ]
    }
   ],
   "source": [
    "apc_data.info()"
   ]
  },
  {
   "cell_type": "code",
   "execution_count": 624,
   "metadata": {},
   "outputs": [
    {
     "data": {
      "text/plain": [
       "0                                    NaN\n",
       "1                             PMC3679557\n",
       "2                  23043264  PMC3506128 \n",
       "3                    23438330 PMC3646402\n",
       "4                   23438216 PMC3601604 \n",
       "5                             PMC3579457\n",
       "6                             PMC3709265\n",
       "7                   23057412 PMC3495574 \n",
       "8                      PMCID: PMC3780468\n",
       "9                      PMCID: PMC3621575\n",
       "10                     PMCID: PMC3739413\n",
       "11                     PMCID: PMC3530961\n",
       "12                     PMCID: PMC3624797\n",
       "13                            PMC3413243\n",
       "14                            PMC3694353\n",
       "15                            PMC3572711\n",
       "16                              22610094\n",
       "17                     PMCID: PMC3586974\n",
       "18          23455506  PMCID: PMC3607399 \n",
       "19            PMID: 24015914 PMC3833349 \n",
       "20                         : PMC3805332 \n",
       "21                                   NaN\n",
       "22              PMCID:\\n    PMC3656742\\n\n",
       "23                        PMCID: 3584654\n",
       "24                   22971149 PMC3466778\n",
       "25                              23072351\n",
       "26                            PMC3477822\n",
       "27                            PMC3530960\n",
       "28                  23458425 PMC3630740 \n",
       "29                        PMID: 20146481\n",
       "                      ...               \n",
       "2097                             3575693\n",
       "2098          PMID: 22188548 PMC3492912 \n",
       "2099          PMID: 22764734 PMC3798095 \n",
       "2100                      PMID: 23703895\n",
       "2101                   PMCID: PMC3664106\n",
       "2102                      PMID: 23649934\n",
       "2103                          PMC2955965\n",
       "2104          PMID: 19948006 PMC3551259 \n",
       "2105                      PMID: 23305527\n",
       "2106                   PMCID: PMC3600532\n",
       "2107                          PMC3440570\n",
       "2108                23670821 PMC3738939 \n",
       "2109                            23640856\n",
       "2110                      PMID: 23918316\n",
       "2111                   PMCID: PMC3728731\n",
       "2112         23495205685.88 PMC3743159  \n",
       "2113           PMID:22997008 PMC3569869 \n",
       "2114                             3708104\n",
       "2115                          PMC3713766\n",
       "2116                          PMC3819359\n",
       "2117                         PMC3773237 \n",
       "2118                         PMC3815011 \n",
       "2119                          PMC3805356\n",
       "2120                               Epub \n",
       "2121                          PMC3707567\n",
       "2122                             2901593\n",
       "2123                             3748854\n",
       "2124                             3785148\n",
       "2125            PMCID:\\n    PMC3647051\\n\n",
       "2126    PMID: 23846567  (Epub July 2013)\n",
       "Name: pmid_pmcid, Length: 2127, dtype: object"
      ]
     },
     "execution_count": 624,
     "metadata": {},
     "output_type": "execute_result"
    }
   ],
   "source": [
    "apc_data['pmid_pmcid']"
   ]
  },
  {
   "cell_type": "code",
   "execution_count": 625,
   "metadata": {},
   "outputs": [
    {
     "data": {
      "text/plain": [
       "array([nan, 'PMC3679557', '23043264  PMC3506128 ', ..., '3748854',\n",
       "       '3785148', 'PMID: 23846567  (Epub July 2013)'], dtype=object)"
      ]
     },
     "execution_count": 625,
     "metadata": {},
     "output_type": "execute_result"
    }
   ],
   "source": [
    "apc_data['pmid_pmcid'].unique()"
   ]
  },
  {
   "cell_type": "code",
   "execution_count": 626,
   "metadata": {},
   "outputs": [
    {
     "data": {
      "text/html": [
       "<div>\n",
       "<style scoped>\n",
       "    .dataframe tbody tr th:only-of-type {\n",
       "        vertical-align: middle;\n",
       "    }\n",
       "\n",
       "    .dataframe tbody tr th {\n",
       "        vertical-align: top;\n",
       "    }\n",
       "\n",
       "    .dataframe thead th {\n",
       "        text-align: right;\n",
       "    }\n",
       "</style>\n",
       "<table border=\"1\" class=\"dataframe\">\n",
       "  <thead>\n",
       "    <tr style=\"text-align: right;\">\n",
       "      <th></th>\n",
       "      <th>pmid_pmcid</th>\n",
       "      <th>publisher</th>\n",
       "      <th>journal_title</th>\n",
       "      <th>article_title</th>\n",
       "      <th>cost</th>\n",
       "    </tr>\n",
       "  </thead>\n",
       "  <tbody>\n",
       "    <tr>\n",
       "      <th>0</th>\n",
       "      <td>NaN</td>\n",
       "      <td>CUP</td>\n",
       "      <td>Psychological Medicine</td>\n",
       "      <td>Reduced parahippocampal cortical thickness in ...</td>\n",
       "      <td>£0.00</td>\n",
       "    </tr>\n",
       "    <tr>\n",
       "      <th>1</th>\n",
       "      <td>PMC3679557</td>\n",
       "      <td>ACS</td>\n",
       "      <td>Biomacromolecules</td>\n",
       "      <td>Structural characterization of a Model Gram-ne...</td>\n",
       "      <td>£2381.04</td>\n",
       "    </tr>\n",
       "    <tr>\n",
       "      <th>2</th>\n",
       "      <td>23043264  PMC3506128</td>\n",
       "      <td>ACS</td>\n",
       "      <td>J Med Chem</td>\n",
       "      <td>Fumaroylamino-4,5-epoxymorphinans and related ...</td>\n",
       "      <td>£642.56</td>\n",
       "    </tr>\n",
       "    <tr>\n",
       "      <th>3</th>\n",
       "      <td>23438330 PMC3646402</td>\n",
       "      <td>ACS</td>\n",
       "      <td>J Med Chem</td>\n",
       "      <td>Orvinols with mixed kappa/mu opioid receptor a...</td>\n",
       "      <td>£669.64</td>\n",
       "    </tr>\n",
       "    <tr>\n",
       "      <th>4</th>\n",
       "      <td>23438216 PMC3601604</td>\n",
       "      <td>ACS</td>\n",
       "      <td>J Org Chem</td>\n",
       "      <td>Regioselective opening of myo-inositol orthoes...</td>\n",
       "      <td>£685.88</td>\n",
       "    </tr>\n",
       "  </tbody>\n",
       "</table>\n",
       "</div>"
      ],
      "text/plain": [
       "              pmid_pmcid publisher           journal_title  \\\n",
       "0                    NaN       CUP  Psychological Medicine   \n",
       "1             PMC3679557       ACS       Biomacromolecules   \n",
       "2  23043264  PMC3506128        ACS              J Med Chem   \n",
       "3    23438330 PMC3646402       ACS              J Med Chem   \n",
       "4   23438216 PMC3601604        ACS              J Org Chem   \n",
       "\n",
       "                                       article_title      cost  \n",
       "0  Reduced parahippocampal cortical thickness in ...     £0.00  \n",
       "1  Structural characterization of a Model Gram-ne...  £2381.04  \n",
       "2  Fumaroylamino-4,5-epoxymorphinans and related ...   £642.56  \n",
       "3  Orvinols with mixed kappa/mu opioid receptor a...   £669.64  \n",
       "4  Regioselective opening of myo-inositol orthoes...   £685.88  "
      ]
     },
     "execution_count": 626,
     "metadata": {},
     "output_type": "execute_result"
    }
   ],
   "source": [
    "apc_data.head()"
   ]
  },
  {
   "cell_type": "code",
   "execution_count": 627,
   "metadata": {},
   "outputs": [],
   "source": [
    "#Turn the publisher column into capital letters\n",
    "apc_data['publisher'] = apc_data['publisher'].str.upper()"
   ]
  },
  {
   "cell_type": "code",
   "execution_count": 628,
   "metadata": {},
   "outputs": [
    {
     "data": {
      "text/plain": [
       "ELSEVIER                                                            391\n",
       "PUBLIC LIBRARY OF SCIENCE                                           278\n",
       "WILEY                                                               136\n",
       "SPRINGER                                                             81\n",
       "OXFORD UNIVERSITY PRESS                                              79\n",
       "OUP                                                                  56\n",
       "WILEY-BLACKWELL                                                      56\n",
       "BIOMED CENTRAL                                                       51\n",
       "NATURE PUBLISHING GROUP                                              47\n",
       "ASBMB                                                                46\n",
       "BMC                                                                  26\n",
       "PLOS                                                                 24\n",
       "NATURE                                                               24\n",
       "FRONTIERS                                                            23\n",
       "BMJ                                                                  23\n",
       "ROYAL SOCIETY                                                        22\n",
       "CAMBRIDGE UNIVERSITY PRESS                                           20\n",
       "COMPANY OF BIOLOGISTS                                                18\n",
       "AMERICAN SOCIETY FOR BIOCHEMISTRY AND MOLECULAR BIOLOGY              18\n",
       "DARTMOUTH JOURNAL SERVICES                                           17\n",
       "AMERICAN SOCIETY FOR MICROBIOLOGY                                    16\n",
       "OXFORD JOURNALS                                                      16\n",
       "NATIONAL ACADEMY OF SCIENCES                                         15\n",
       "BMJ GROUP                                                            15\n",
       "AMERICAN CHEMICAL SOCIETY                                            15\n",
       "LANDES BIOSCIENCE                                                    14\n",
       "SAGE                                                                 14\n",
       "SOCIETY FOR GENERAL MICROBIOLOGY                                     14\n",
       "AMERICAN PSYCHOLOGICAL ASSOCIATION                                   13\n",
       "WILEY SUBSCRIPTION SERVICES  INC.                                    13\n",
       "                                                                   ... \n",
       "BMJ GROUP                                                             1\n",
       "THE AMERICAN SOCIETY FOR BIOCHEMISTRY AND MOLECULAR BIOLOGY, INC      1\n",
       "AMERICAN SOCIETY FOR BIOCHEMISTRY AND MOLECULAR BIOLGY                1\n",
       "FUTURE MEDICINE LTD                                                   1\n",
       "THE JOURNAL OF VISUALIZED EXPERIMENTS                                 1\n",
       "THE SHERIDAN PRESS                                                    1\n",
       "WILEY/BLACKWELL                                                       1\n",
       "EUROPEAN RESPIRATORY SOCIETY                                          1\n",
       "AGA INSTITUTE                                                         1\n",
       "ELSEVIER / CELL SCIENCE                                               1\n",
       "NPG                                                                   1\n",
       "SOCIETY FOR ENDOCRINOLOGY                                             1\n",
       "SAGE PUBLISHERS                                                       1\n",
       "CADMUS                                                                1\n",
       "THE AMERICAN SOCIETY FOR BIOCHEMISTRY AND MOLECULAR BIOLOGY           1\n",
       "PUBLIC.SERVICE.CO.UK                                                  1\n",
       "AMERICAN SOCIETY FOR INVESTIGATIVE PATHOLOGY                          1\n",
       "RESEARCH MEDIA LTD                                                    1\n",
       "CAMBRIDGE UNI PRESS                                                   1\n",
       "SOCIETY OF NEURO SCIENCES                                             1\n",
       "ELSEVIER LTD                                                          1\n",
       "HINDAWI                                                               1\n",
       "ASBMC /CENVEO                                                         1\n",
       "SCIENTIFIC RESEARCH PUBLISHING                                        1\n",
       "JOVE                                                                  1\n",
       "BENTHAN SCIENCE PUBLISHERS                                            1\n",
       "PALGRAVE MACMILLAN                                                    1\n",
       "CENVEO PUBLISHER SERVICES/ASM JV1                                     1\n",
       "PUBLISHER SOCIETY FOR ENDOCRINOLOGY                                   1\n",
       "WOLTERS KLUWERS                                                       1\n",
       "Name: publisher, Length: 275, dtype: int64"
      ]
     },
     "execution_count": 628,
     "metadata": {},
     "output_type": "execute_result"
    }
   ],
   "source": [
    "# counts to know frequency\n",
    "apc_data['publisher'].value_counts()"
   ]
  },
  {
   "cell_type": "code",
   "execution_count": 629,
   "metadata": {},
   "outputs": [
    {
     "data": {
      "text/plain": [
       "(275,)"
      ]
     },
     "execution_count": 629,
     "metadata": {},
     "output_type": "execute_result"
    }
   ],
   "source": [
    "#the unique shape of the publisher column\n",
    "apc_data['publisher'].unique().shape"
   ]
  },
  {
   "cell_type": "code",
   "execution_count": 630,
   "metadata": {},
   "outputs": [],
   "source": [
    "#strip the data of all unnecessary spaces and new line charater\n",
    "#apc_data.loc[:, 'publisher'].str.strip().unique().shape\n"
   ]
  },
  {
   "cell_type": "code",
   "execution_count": 631,
   "metadata": {},
   "outputs": [],
   "source": [
    "#strip the data of all unnecessary spaces and new line charater and reed the publisher column off duplications and misspelling e.t.c\n",
    "apc_data['publisher'] = apc_data['publisher']\\\n",
    ".str.replace('(^.*ACS.*$)', 'AMERICAN CHEMICAL SOCIETY')\\\n",
    ".str.replace('(^.*AMERICAN.SOCIETY.FOR.BIO.*$)','AMERICAN SOCIETY FOR BIOCHEMISTRY AND MOLECULAR BIOLOGY')\\\n",
    ".str.replace('(^.*AMERICAN.SOC\\s.*$)', 'AMERICAN SOCIETY FOR BIOCHEMISTRY AND MOLECULAR BIOLOGY')\\\n",
    ".str.replace('(^.*AMERICAN\\sSOCIETY\\s(FOR|OF)\\sMICROB.*$)', 'AMERICAN SOCIETY OF MICROBIOLOGY')\\\n",
    ".str.replace('\\n', '')\\\n",
    ".str.strip()\\\n",
    ".str.replace('(^.*AMERICAN SOCIETY OF HA.*$)', 'AMERICAN SOCIETY OF HAEMATOLOGY')\\\n",
    ".str.replace('(^.*AMERICAN SOCIETY OF HE.*$)', 'AMERICAN SOCIETY OF HAEMATOLOGY')\\\n",
    ".str.replace('(^.*BMJ.*$)', 'BMJ GROUP')\\\n",
    ".str.replace('(^.*CADMUS.J.*$)', 'CADMUS JOURNAL SERVICES')\\\n",
    ".str.replace('(^.*CADMUS.*$)', 'CADMUS JOURNAL SERVICES')\\\n",
    ".str.replace('(^.*CAMDUS.*$)', 'CADMUS JOURNAL SERVICES')\\\n",
    ".str.replace('(^.*BIOMED.*$)', 'BIOMED CENTRAL LTD')\\\n",
    ".str.replace('(^.*BENTHA.*$)', 'BENTHAM SCIENCE PUBLISHERS')\\\n",
    ".str.replace('(^.*CAMBRIDGE.*$)', 'CAMBRIDGE UNIVERSITY PRESS')\\\n",
    ".str.replace('(^.*CENVEO.*$)', 'CENVEO PUBLISHER SERVICES')\\\n",
    ".str.replace('(^.*COLD SPRING.*$)', 'COLD SPRING HABOUR PRESS')\\\n",
    ".str.replace('(^.*COMPANY OF.*$)', 'COMPANY OF BIOLOGISTS')\\\n",
    ".str.replace('(^.*DARTMOUTH.*$)', 'DARTMOUTH JOURNAL SERVICES')\\\n",
    ".str.replace('(^.*DARMOUTH.*$)', 'DARTMOUTH JOURNAL SERVICES')\\\n",
    ".str.replace('(^.*ELSEV.*$)', 'ELSEVIER SCIENCE PUBLISHERS')\\\n",
    ".str.replace('(^.*FEDERATION OF AMERICAN.*$)', 'FASEB')\\\n",
    ".str.replace('(^.*FEDERATION OF THE AMERICAN.*$)', 'FASEB')\\\n",
    ".str.replace('(^.*FRONTIERS.*$)', 'FRONTIERS MEDIA')\\\n",
    ".str.replace('(^.*FUTURE.*$)', 'FUTURE MEDICINE')\\\n",
    ".str.replace('(^.*HINDAWI.*$)', 'HINDAWI PUBLISHING')\\\n",
    ".str.replace('(^.*IMPACT.*$)', 'IMPACT JOURNALS')\\\n",
    ".str.replace('(^.*INTERNATIONAL UNION OF CRY.*$)', 'INTERNATIONAL UNION OF CRYSTALLOGRAPHY')\\\n",
    ".str.replace('(^.*JOHN W.*$)', 'JOHN WILEY')\\\n",
    ".str.replace('(^.*LANDES.*$)', 'LANDES BIOSCIENCES')\\\n",
    ".str.replace('(^.*MARY ANN.*$)', 'MARY ANN LIEBERT')\\\n",
    ".str.replace('(^.*MIT PRESS.*$)', 'MIT PRESS')\\\n",
    ".str.replace('(^.*MY.*$)', 'MY JOVE CORPORATION')\\\n",
    ".str.replace('(^.*JOVE.*$)', 'MY JOVE CORPORATION')\\\n",
    ".str.replace('(^.*NATURE.*$)', 'NATURE PUBLISHING GROUP')\\\n",
    ".str.replace('(^.*NPG.*$)', 'NATURE PUBLISHING GROUP')\\\n",
    ".str.replace('(^.*OXFORD.*$)', 'OXFORD UNIVERSITY PRESS')\\\n",
    ".str.replace('(^.*OUP.*$)', 'OXFORD UNIVERSITY PRESS')\\\n",
    ".str.replace('(^.*PLOS.*$)', 'PLOS PUBLIC LIBRARY OF SCIENCE')\\\n",
    ".str.replace('(^.*PNAS.*$)', 'PNAS')\\\n",
    ".str.replace('(^.*PORTLAND.*$)', 'PORTLAND PRESS')\\\n",
    ".str.replace('(^.*PUBMED.*$)', 'PUBMED')\\\n",
    ".str.replace('(^.*ROYAL SOCIETY.*$)', 'ROYAL SOCIETY OF CHEMISTRY')\\\n",
    ".str.replace('(^.*RSC.*$)', 'ROYAL SOCIETY OF CHEMISTRY')\\\n",
    ".str.replace('(^.*SAGE.*$)', 'SAGE PUBLICATIONS')\\\n",
    ".str.replace('(^.*SOCIETY FOR GENE.*$)', 'SOCIETY FOR GENERAL MICROBIOLOGY')\\\n",
    ".str.replace('(^.*SOCIETY FOR LEUKO.*$)', 'SOCIETY OF LEUKOCYTE BIOLOGY')\\\n",
    ".str.replace('(^.*SOCIETY FOR NEURO.*$)', 'SOCIETY OF NEURO SCIENCES')\\\n",
    ".str.replace('(^.*SOCIETY OF NEUROSCIENCE.*$)', 'SOCIETY OF NEURO SCIENCES')\\\n",
    ".str.replace('(^.*SOCIETY OF GENE.*$)', 'SOCIETY FOR GENERAL MICROBIOLOGY')\\\n",
    ".str.replace('(^.*SPRINGER.*$)', 'SPRINGER')\\\n",
    ".str.replace('(^.*TAYLOR.*$)', 'TAYLOR AND FRANCIS')\\\n",
    ".str.replace('(^.*T&F.*$)', 'TAYLOR AND FRANCIS')\\\n",
    ".str.replace('(^.*THE ENDOCRINE SOC.*$)', 'THE ENDOCRINE SOCIETY')\\\n",
    ".str.replace('(^.*THE END.*$)', 'THE ENDOCRINE SOCIETY')\\\n",
    ".str.replace('(^.*WILEY.*$)', 'WILEY BLACKWELL')\\\n",
    ".str.replace('(^.*WLIEY.*$)', 'WILEY BLACKWELL')\\\n",
    ".str.replace('(^.*WOLTERS KLU.*$)', 'WOLTERS KLUWER')\\\n",
    ".str.replace('(^.*ASM.*$)', 'AMERICAN SOCIETY OF MICROBIOLOGY')\\\n",
    ".str.replace('(^.*ASBMB.*$)', 'AMERICAN SOCIETY FOR BIOCHEMISTRY AND MOLECULAR BIOLOGY')\\\n",
    ".str.replace('(^.*AMBSB.*$)', 'AMERICAN SOCIETY FOR BIOCHEMISTRY AND MOLECULAR BIOLOGY')\\\n",
    ".str.replace('(^.*CUP.*$)', 'CENVEO PUBLISHER SERVICES')\n",
    "\n"
   ]
  },
  {
   "cell_type": "code",
   "execution_count": 632,
   "metadata": {},
   "outputs": [
    {
     "data": {
      "text/html": [
       "<div>\n",
       "<style scoped>\n",
       "    .dataframe tbody tr th:only-of-type {\n",
       "        vertical-align: middle;\n",
       "    }\n",
       "\n",
       "    .dataframe tbody tr th {\n",
       "        vertical-align: top;\n",
       "    }\n",
       "\n",
       "    .dataframe thead th {\n",
       "        text-align: right;\n",
       "    }\n",
       "</style>\n",
       "<table border=\"1\" class=\"dataframe\">\n",
       "  <thead>\n",
       "    <tr style=\"text-align: right;\">\n",
       "      <th></th>\n",
       "      <th>pmid_pmcid</th>\n",
       "      <th>publisher</th>\n",
       "      <th>journal_title</th>\n",
       "      <th>article_title</th>\n",
       "      <th>cost</th>\n",
       "    </tr>\n",
       "  </thead>\n",
       "  <tbody>\n",
       "    <tr>\n",
       "      <th>0</th>\n",
       "      <td>NaN</td>\n",
       "      <td>CENVEO PUBLISHER SERVICES</td>\n",
       "      <td>Psychological Medicine</td>\n",
       "      <td>Reduced parahippocampal cortical thickness in ...</td>\n",
       "      <td>£0.00</td>\n",
       "    </tr>\n",
       "    <tr>\n",
       "      <th>1</th>\n",
       "      <td>PMC3679557</td>\n",
       "      <td>AMERICAN CHEMICAL SOCIETY</td>\n",
       "      <td>Biomacromolecules</td>\n",
       "      <td>Structural characterization of a Model Gram-ne...</td>\n",
       "      <td>£2381.04</td>\n",
       "    </tr>\n",
       "    <tr>\n",
       "      <th>2</th>\n",
       "      <td>23043264  PMC3506128</td>\n",
       "      <td>AMERICAN CHEMICAL SOCIETY</td>\n",
       "      <td>J Med Chem</td>\n",
       "      <td>Fumaroylamino-4,5-epoxymorphinans and related ...</td>\n",
       "      <td>£642.56</td>\n",
       "    </tr>\n",
       "    <tr>\n",
       "      <th>3</th>\n",
       "      <td>23438330 PMC3646402</td>\n",
       "      <td>AMERICAN CHEMICAL SOCIETY</td>\n",
       "      <td>J Med Chem</td>\n",
       "      <td>Orvinols with mixed kappa/mu opioid receptor a...</td>\n",
       "      <td>£669.64</td>\n",
       "    </tr>\n",
       "    <tr>\n",
       "      <th>4</th>\n",
       "      <td>23438216 PMC3601604</td>\n",
       "      <td>AMERICAN CHEMICAL SOCIETY</td>\n",
       "      <td>J Org Chem</td>\n",
       "      <td>Regioselective opening of myo-inositol orthoes...</td>\n",
       "      <td>£685.88</td>\n",
       "    </tr>\n",
       "  </tbody>\n",
       "</table>\n",
       "</div>"
      ],
      "text/plain": [
       "              pmid_pmcid                  publisher           journal_title  \\\n",
       "0                    NaN  CENVEO PUBLISHER SERVICES  Psychological Medicine   \n",
       "1             PMC3679557  AMERICAN CHEMICAL SOCIETY       Biomacromolecules   \n",
       "2  23043264  PMC3506128   AMERICAN CHEMICAL SOCIETY              J Med Chem   \n",
       "3    23438330 PMC3646402  AMERICAN CHEMICAL SOCIETY              J Med Chem   \n",
       "4   23438216 PMC3601604   AMERICAN CHEMICAL SOCIETY              J Org Chem   \n",
       "\n",
       "                                       article_title      cost  \n",
       "0  Reduced parahippocampal cortical thickness in ...     £0.00  \n",
       "1  Structural characterization of a Model Gram-ne...  £2381.04  \n",
       "2  Fumaroylamino-4,5-epoxymorphinans and related ...   £642.56  \n",
       "3  Orvinols with mixed kappa/mu opioid receptor a...   £669.64  \n",
       "4  Regioselective opening of myo-inositol orthoes...   £685.88  "
      ]
     },
     "execution_count": 632,
     "metadata": {},
     "output_type": "execute_result"
    }
   ],
   "source": [
    "apc_data.head()"
   ]
  },
  {
   "cell_type": "code",
   "execution_count": 633,
   "metadata": {},
   "outputs": [
    {
     "data": {
      "text/plain": [
       "PLoS One                                           92\n",
       "PLoS ONE                                           62\n",
       "Journal of Biological Chemistry                    48\n",
       "Nucleic Acids Research                             21\n",
       "Proceedings of the National Academy of Sciences    19\n",
       "Name: journal_title, dtype: int64"
      ]
     },
     "execution_count": 633,
     "metadata": {},
     "output_type": "execute_result"
    }
   ],
   "source": [
    "#clean the journal title column\n",
    "apc_data['journal_title'].value_counts().head()"
   ]
  },
  {
   "cell_type": "code",
   "execution_count": 634,
   "metadata": {},
   "outputs": [
    {
     "data": {
      "text/plain": [
       "(985,)"
      ]
     },
     "execution_count": 634,
     "metadata": {},
     "output_type": "execute_result"
    }
   ],
   "source": [
    "#count the row of journal title before cleaning\n",
    "apc_data['journal_title'].unique().shape"
   ]
  },
  {
   "cell_type": "code",
   "execution_count": 635,
   "metadata": {},
   "outputs": [],
   "source": [
    "#clean the journal title column\n",
    "apc_data['journal_title'] = apc_data['journal_title']\\\n",
    ".str.upper()\\\n",
    ".str.strip()\\\n",
    ".str.replace('(^.*J MED CH.*$)', 'JOURNAL OF MEDICINAL CHEMISTRY')\\\n",
    ".str.replace('(^.*ANTIMICROBIAL AG.*$)', 'ANTIMICROBIAL AGENTS AND CHEMOTHERAPY')\\\n",
    ".str.replace('(^.*JOUNRAL.*$)', 'JOURNAL OF CLINICAL MICROBIOLOGY')\\\n",
    ".str.replace('(^.*J BIOL CHE.*$)', 'JOURNAL OF BIOLOGICAL CHEMISTRY')\\\n",
    ".str.replace('(^.*THE JOURNAL OF BIOLOGICAL.*$)', 'JOURNAL OF BIOLOGICAL CHEMISTRY')\\\n",
    ".str.replace('(^.*BIOLOGICAL CHEMISTRY.*$)', 'JOURNAL OF BIOLOGICAL CHEMISTRY')\\\n",
    ".str.replace('(^.*BIOLOGICIAL CHEMISTRY.*$)', 'JOURNAL OF BIOLOGICAL CHEMISTRY')\\\n",
    ".str.replace('(^.*JOURNAL OF BIOL CHEM.*$)', 'JOURNAL OF BIOLOGICAL CHEMISTRY')\\\n",
    ".str.replace('(^.*MOLECULAR PA.*$)', 'MOLECULAR BRAIN')\\\n",
    ".str.replace('(^.*INTERNATIONAL JOURNAL OF BEHAVI.*$)', 'INTERNATIONAL JOURNAL OF BEHAVIOURAL NUTRITION AND PHYSICAL ACTIVITY')\\\n",
    ".str.replace('(^.*BJOPHTHALMOL.*$)', 'BRITISH JOURNAL OF OPHTHALMOLOGY')\\\n",
    ".str.replace('(^.*BRITISH JOURNAL OF OP.*$)', 'BRITISH JOURNAL OF OPTHALMOLOGY')\\\n",
    ".str.replace('(^.*JOURNAL OF NEUROLOGY, NEUROSURGERY.*$)', 'JOURNAL OF NEUROLOGY, NEUROSURGERY AND PSYCHIATRY')\\\n",
    ".str.replace('(^.*BRITISH JOURNAL FOR THE HISTORY OF SCIENCE.*$)', 'BRITISH JOURNAL OF THE HISTORY OF SCIENCE')\\\n",
    ".str.replace('(^.*TRENDS IN NEUROSCIE.*$)', 'TRENDS IN NEUROSCIENCES')\\\n",
    ".str.replace('(^.*THE FASEB JOU.*$)', 'FASEB JOURNAL')\\\n",
    ".str.replace('(^.*JOURNAL OF VISUALIZED EXPER.*$)', 'JOURNAL OF VISUALIZED EXPERIMENTS')\\\n",
    ".str.replace('(^.*PNAS.*$)', 'PROCEDDINGS OF THE NATIONAL ACADEMY OF SCIENCES OF USA')\\\n",
    ".str.replace('(^.*PROCEEDINGS OF THE NATIONAL ACADEMY OF SCIENCES OF THE UNITED STATES.*$)', 'PROCEDDINGS OF THE NATIONAL ACADEMY OF SCIENCES OF USA')\\\n",
    ".str.replace('(^.*INTERNATIONAL JOURAL OF EPIDE.*$)', 'INTERNATIONAL JOURNAL OF EPIDEMIOLOGY')\\\n",
    ".str.replace('(^.*NEPHROLOGY DIALYSIS TRANS.*$)', 'NEPHROLOGY DIALYSIS AND TRANSPLANTATION')\\\n",
    ".str.replace('(^.*OXFORD UNIVERSITY P.*$)', 'OXFORD JOURNALS')\\\n",
    ".str.replace('(^.*J INFECT D.*$)', 'THE JOURNAL OF INFECTIOUS DISEASES')\\\n",
    ".str.replace('(^.*JAIDS JOURNAL OF ACQ.*$)', 'JOURNAL OF AIDS')\\\n",
    ".str.replace('(^.*JOURNAL OF ACQUIRED IM.*$)', 'JOURNAL OF AIDS')\\\n",
    ".str.replace('(^.*AIDS JOUR.*$)', 'JOURNAL OF AIDS')\n",
    "\n"
   ]
  },
  {
   "cell_type": "code",
   "execution_count": 636,
   "metadata": {},
   "outputs": [
    {
     "data": {
      "text/plain": [
       "0            PSYCHOLOGICAL MEDICINE\n",
       "1                 BIOMACROMOLECULES\n",
       "2    JOURNAL OF MEDICINAL CHEMISTRY\n",
       "3    JOURNAL OF MEDICINAL CHEMISTRY\n",
       "4                        J ORG CHEM\n",
       "Name: journal_title, dtype: object"
      ]
     },
     "execution_count": 636,
     "metadata": {},
     "output_type": "execute_result"
    }
   ],
   "source": [
    "apc_data['journal_title'].head()"
   ]
  },
  {
   "cell_type": "code",
   "execution_count": 637,
   "metadata": {},
   "outputs": [
    {
     "data": {
      "text/plain": [
       "ACADEMY OF NUTRITION AND DIETETICS                                                         1\n",
       "ACS CHEMICAL BIOLOGY                                                                       5\n",
       "ACS CHEMICAL NEUROSCIENCE                                                                  1\n",
       "ACS NANO                                                                                   2\n",
       "ACTA CRYSTALLOGRAPHICA SECTION D,  BIOLOGICAL CRYSTALLOGRAPHY                              1\n",
       "ACTA CRYSTALLOGRAPHICA SECTION D: BIOLOGICAL CRYSTALLOGRAPHY                               1\n",
       "ACTA CRYSTALLOGRAPHICA SECTION F: STRUCTURAL BIOLOGY AND CRYSTALLIZATION COMMUNICATIONS    2\n",
       "ACTA CRYSTALLOGRAPHICA, SECTION D                                                          1\n",
       "ACTA CRYSTALLOGRAPHY D                                                                     1\n",
       "ACTA D                                                                                     1\n",
       "ACTA DERMATO VENEREOLOGICA                                                                 1\n",
       "ACTA DIABETOLOGICA                                                                         1\n",
       "ACTA F                                                                                     1\n",
       "ACTA NEUROPATHOL                                                                           1\n",
       "ACTA NEUROPATHOLOGICA                                                                      3\n",
       "ACTA OPTHALMOLOGICA                                                                        1\n",
       "ACTA PHYSIOL                                                                               1\n",
       "ADDICTION                                                                                  2\n",
       "ADVANCES IN EXPERIMENTAL MEDICINE AND BIOLOGY                                              4\n",
       "AGE                                                                                        2\n",
       "AGE AND AGEING                                                                             1\n",
       "AGEING & SOCIETY                                                                           1\n",
       "AGING CELL                                                                                 1\n",
       "AIDS                                                                                       3\n",
       "AIDS BEHAV                                                                                 1\n",
       "AIDS CARE                                                                                  4\n",
       "AIDS RESEARCH AND THERAPY                                                                  1\n",
       "AIDS UK                                                                                    2\n",
       "ALCOHOL AND ALCOHOLISM                                                                     1\n",
       "ALIMENTRARY PHARMACOLOGY & THERAPEUTICS                                                    2\n",
       "                                                                                          ..\n",
       "TICKS AND TICK-BORNE DISEASES                                                              1\n",
       "TISSUE ENGINEERING: PART A                                                                 1\n",
       "TRAFFIC                                                                                    6\n",
       "TRANSACTIONS OF THE ROYAL SOCIETY OF TROPICAL MEDICINE AND HYGIENE                         1\n",
       "TRANSLATIONAL PSYCHIATRY                                                                   2\n",
       "TRENDS IN COGNITIVE SCIENCE                                                                1\n",
       "TRENDS IN GENETICS                                                                         2\n",
       "TRENDS IN MICROBIOLOGY                                                                     1\n",
       "TRENDS IN MOLECULAR MEDICINE                                                               1\n",
       "TRENDS IN NEUROSCIENCES                                                                    3\n",
       "TRENDS IN PARASITOLOGY                                                                     4\n",
       "TRIALS                                                                                     5\n",
       "TROP MED INT HEALTH                                                                        1\n",
       "TROPICAL ANIMAL HEALTH & PRODUCTION                                                        1\n",
       "TROPICAL MEDICINE AND INTERNATIONAL HEALTH                                                 6\n",
       "TUBERCULOSIS                                                                               2\n",
       "URBAN HISTORY                                                                              1\n",
       "UROLITHIASIS                                                                               1\n",
       "VACCINE                                                                                    5\n",
       "VASCULAR PHARMACOLOGY                                                                      1\n",
       "VETERINARY MICROBIOLOGY                                                                    1\n",
       "VETERINARY PARASITOLOGY                                                                    2\n",
       "VETERINARY RECORD                                                                          1\n",
       "VETERINARY RESEARCH                                                                        1\n",
       "VIROLOGY                                                                                   2\n",
       "VIROLOGY JOURNAL                                                                           1\n",
       "VIRUS RESEARCH                                                                             1\n",
       "VISION RESEARCH                                                                            2\n",
       "VISUAL NEUROSCIENCE                                                                        1\n",
       "ZOONOSES AND PUBLIC HEALTH                                                                 1\n",
       "Name: journal_title, Length: 859, dtype: int64"
      ]
     },
     "execution_count": 637,
     "metadata": {},
     "output_type": "execute_result"
    }
   ],
   "source": [
    "apc_data['journal_title'].value_counts().sort_index()"
   ]
  },
  {
   "cell_type": "code",
   "execution_count": 638,
   "metadata": {},
   "outputs": [],
   "source": [
    "#clean the pmid_pmcid column\n",
    "apc_data['pmid_pmcid'] = apc_data['pmid_pmcid'].str.replace('\\D{7}', '').str.replace('PMID: ', '')\\\n",
    ".str.replace('PMC', '').str.replace(':', '').str.replace('PMID', '').str.replace('\\n', '')\\\n",
    ".str.replace('Epub', 'NaN').str.strip()"
   ]
  },
  {
   "cell_type": "code",
   "execution_count": 639,
   "metadata": {},
   "outputs": [
    {
     "data": {
      "text/plain": [
       "pmid_pmcid       199\n",
       "publisher          0\n",
       "journal_title      1\n",
       "article_title      0\n",
       "cost               0\n",
       "dtype: int64"
      ]
     },
     "execution_count": 639,
     "metadata": {},
     "output_type": "execute_result"
    }
   ],
   "source": [
    "apc_data.isnull().sum()"
   ]
  },
  {
   "cell_type": "code",
   "execution_count": 640,
   "metadata": {},
   "outputs": [],
   "source": [
    "apc_data.fillna(method='bfill', inplace=True)"
   ]
  },
  {
   "cell_type": "code",
   "execution_count": 641,
   "metadata": {},
   "outputs": [
    {
     "data": {
      "text/plain": [
       "pmid_pmcid       0\n",
       "publisher        0\n",
       "journal_title    0\n",
       "article_title    0\n",
       "cost             0\n",
       "dtype: int64"
      ]
     },
     "execution_count": 641,
     "metadata": {},
     "output_type": "execute_result"
    }
   ],
   "source": [
    "apc_data.isnull().sum()"
   ]
  },
  {
   "cell_type": "code",
   "execution_count": 642,
   "metadata": {},
   "outputs": [
    {
     "data": {
      "text/html": [
       "<div>\n",
       "<style scoped>\n",
       "    .dataframe tbody tr th:only-of-type {\n",
       "        vertical-align: middle;\n",
       "    }\n",
       "\n",
       "    .dataframe tbody tr th {\n",
       "        vertical-align: top;\n",
       "    }\n",
       "\n",
       "    .dataframe thead th {\n",
       "        text-align: right;\n",
       "    }\n",
       "</style>\n",
       "<table border=\"1\" class=\"dataframe\">\n",
       "  <thead>\n",
       "    <tr style=\"text-align: right;\">\n",
       "      <th></th>\n",
       "      <th>pmid_pmcid</th>\n",
       "      <th>publisher</th>\n",
       "      <th>journal_title</th>\n",
       "      <th>article_title</th>\n",
       "      <th>cost</th>\n",
       "    </tr>\n",
       "  </thead>\n",
       "  <tbody>\n",
       "    <tr>\n",
       "      <th>2122</th>\n",
       "      <td>2901593</td>\n",
       "      <td>WOLTERS KLUWER</td>\n",
       "      <td>CIRCULATION RESEARCH</td>\n",
       "      <td>Mechanistic Links Between Na+ Channel (SCN5A) ...</td>\n",
       "      <td>£1334.15</td>\n",
       "    </tr>\n",
       "    <tr>\n",
       "      <th>2123</th>\n",
       "      <td>3748854</td>\n",
       "      <td>WOLTERS KLUWER</td>\n",
       "      <td>AIDS</td>\n",
       "      <td>Evaluation of an empiric risk screening score ...</td>\n",
       "      <td>£1834.77</td>\n",
       "    </tr>\n",
       "    <tr>\n",
       "      <th>2124</th>\n",
       "      <td>3785148</td>\n",
       "      <td>WOLTERS KLUWER</td>\n",
       "      <td>PEDIATR INFECT DIS J</td>\n",
       "      <td>Topical umbilical cord care for prevention of ...</td>\n",
       "      <td>£1834.77</td>\n",
       "    </tr>\n",
       "    <tr>\n",
       "      <th>2125</th>\n",
       "      <td>3647051</td>\n",
       "      <td>WOLTERS KLUWER</td>\n",
       "      <td>AIDS</td>\n",
       "      <td>Grassroots Community Organisations' Contributi...</td>\n",
       "      <td>£2374.52</td>\n",
       "    </tr>\n",
       "    <tr>\n",
       "      <th>2126</th>\n",
       "      <td>23846567 July 2013)</td>\n",
       "      <td>WOLTERS KLUWER</td>\n",
       "      <td>JOURNAL OF AIDS</td>\n",
       "      <td>A novel community health worker tool outperfor...</td>\n",
       "      <td>£2034.75</td>\n",
       "    </tr>\n",
       "  </tbody>\n",
       "</table>\n",
       "</div>"
      ],
      "text/plain": [
       "               pmid_pmcid       publisher         journal_title  \\\n",
       "2122              2901593  WOLTERS KLUWER  CIRCULATION RESEARCH   \n",
       "2123              3748854  WOLTERS KLUWER                  AIDS   \n",
       "2124              3785148  WOLTERS KLUWER  PEDIATR INFECT DIS J   \n",
       "2125              3647051  WOLTERS KLUWER                  AIDS   \n",
       "2126  23846567 July 2013)  WOLTERS KLUWER       JOURNAL OF AIDS   \n",
       "\n",
       "                                          article_title      cost  \n",
       "2122  Mechanistic Links Between Na+ Channel (SCN5A) ...  £1334.15  \n",
       "2123  Evaluation of an empiric risk screening score ...  £1834.77  \n",
       "2124  Topical umbilical cord care for prevention of ...  £1834.77  \n",
       "2125  Grassroots Community Organisations' Contributi...  £2374.52  \n",
       "2126  A novel community health worker tool outperfor...  £2034.75  "
      ]
     },
     "execution_count": 642,
     "metadata": {},
     "output_type": "execute_result"
    }
   ],
   "source": [
    "apc_data.tail()"
   ]
  },
  {
   "cell_type": "code",
   "execution_count": 643,
   "metadata": {},
   "outputs": [],
   "source": [
    "#clean the cost column and change to the appropriate data type\n",
    "apc_data['cost'] = apc_data['cost'].str.replace('£','')\\\n",
    ".str.replace('$', '')\\\n",
    ".astype(float)"
   ]
  },
  {
   "cell_type": "code",
   "execution_count": 644,
   "metadata": {},
   "outputs": [
    {
     "data": {
      "text/plain": [
       "array([   0.  , 2381.04,  642.56, ..., 2015.72, 1334.15, 2034.75])"
      ]
     },
     "execution_count": 644,
     "metadata": {},
     "output_type": "execute_result"
    }
   ],
   "source": [
    "apc_data['cost'].unique()"
   ]
  },
  {
   "cell_type": "code",
   "execution_count": 645,
   "metadata": {},
   "outputs": [
    {
     "data": {
      "text/plain": [
       "0.00          1\n",
       "9.93          1\n",
       "45.94         1\n",
       "122.31        1\n",
       "135.29        1\n",
       "159.74        1\n",
       "159.91        1\n",
       "187.03        1\n",
       "206.32        1\n",
       "214.74        1\n",
       "238.08        1\n",
       "265.67        1\n",
       "270.00        1\n",
       "321.12        1\n",
       "321.46        1\n",
       "327.72        1\n",
       "329.79        1\n",
       "340.00        1\n",
       "343.51        1\n",
       "346.25        1\n",
       "348.33        1\n",
       "364.17        1\n",
       "378.70        1\n",
       "378.78        1\n",
       "381.04        1\n",
       "384.00        1\n",
       "389.73        1\n",
       "395.60        1\n",
       "402.42        1\n",
       "409.78        1\n",
       "             ..\n",
       "3975.75       1\n",
       "3992.37       1\n",
       "3995.74       1\n",
       "3997.71       1\n",
       "4002.42       1\n",
       "4012.03       1\n",
       "4041.05       1\n",
       "4069.66       1\n",
       "4072.42       1\n",
       "4076.38       1\n",
       "4077.52       1\n",
       "4084.51       1\n",
       "4095.97       1\n",
       "4099.71       1\n",
       "4105.34       1\n",
       "4112.54       1\n",
       "4148.39       1\n",
       "4151.77       1\n",
       "4163.88       1\n",
       "4170.35       1\n",
       "4226.04       1\n",
       "4320.00       2\n",
       "4554.01       1\n",
       "4800.00       3\n",
       "5760.00       1\n",
       "6000.00       1\n",
       "13200.00      1\n",
       "192645.00     1\n",
       "201024.00     1\n",
       "999999.00    47\n",
       "Name: cost, Length: 1395, dtype: int64"
      ]
     },
     "execution_count": 645,
     "metadata": {},
     "output_type": "execute_result"
    }
   ],
   "source": [
    "apc_data['cost'].value_counts().sort_index()"
   ]
  },
  {
   "cell_type": "code",
   "execution_count": 646,
   "metadata": {},
   "outputs": [],
   "source": [
    "#removing outliers\n",
    "apc_data = apc_data[apc_data['cost'].between(9.93,202000.00)]"
   ]
  },
  {
   "cell_type": "code",
   "execution_count": 647,
   "metadata": {},
   "outputs": [
    {
     "data": {
      "text/plain": [
       "count      2079.000000\n",
       "mean       2016.007273\n",
       "std        6101.730446\n",
       "min           9.930000\n",
       "25%        1270.780000\n",
       "50%        1853.000000\n",
       "75%        2302.930000\n",
       "max      201024.000000\n",
       "Name: cost, dtype: float64"
      ]
     },
     "execution_count": 647,
     "metadata": {},
     "output_type": "execute_result"
    }
   ],
   "source": [
    "apc_data['cost'].describe()"
   ]
  },
  {
   "cell_type": "code",
   "execution_count": 648,
   "metadata": {},
   "outputs": [
    {
     "data": {
      "text/plain": [
       "array([2381.04,  642.56,  669.64, ..., 2015.72, 1334.15, 2034.75])"
      ]
     },
     "execution_count": 648,
     "metadata": {},
     "output_type": "execute_result"
    }
   ],
   "source": [
    "apc_data['cost'].unique()"
   ]
  },
  {
   "cell_type": "code",
   "execution_count": 649,
   "metadata": {},
   "outputs": [
    {
     "data": {
      "text/plain": [
       "<matplotlib.axes._subplots.AxesSubplot at 0x1a21f4e2b0>"
      ]
     },
     "execution_count": 649,
     "metadata": {},
     "output_type": "execute_result"
    },
    {
     "data": {
      "image/png": "[encoded data removed]",
      "text/plain": [
       "<Figure size 1440x720 with 1 Axes>"
      ]
     },
     "metadata": {},
     "output_type": "display_data"
    }
   ],
   "source": [
    "apc_data['cost'].plot(kind='hist')"
   ]
  },
  {
   "cell_type": "markdown",
   "metadata": {},
   "source": [
    "### Determine the five most common journals and their respective number of  articles"
   ]
  },
  {
   "cell_type": "code",
   "execution_count": 650,
   "metadata": {},
   "outputs": [
    {
     "data": {
      "text/plain": [
       "<matplotlib.axes._subplots.AxesSubplot at 0x1a22e22da0>"
      ]
     },
     "execution_count": 650,
     "metadata": {},
     "output_type": "execute_result"
    },
    {
     "data": {
      "image/png": "[encoded data removed]",
      "text/plain": [
       "<Figure size 1440x720 with 1 Axes>"
      ]
     },
     "metadata": {},
     "output_type": "display_data"
    }
   ],
   "source": [
    "#the five most common journal by publisher\n",
    "apc_data['publisher'].value_counts(sort=True).head().plot(kind='bar')"
   ]
  },
  {
   "cell_type": "code",
   "execution_count": 651,
   "metadata": {},
   "outputs": [
    {
     "data": {
      "image/png": "[encoded data removed]",
      "text/plain": [
       "<Figure size 1440x720 with 1 Axes>"
      ]
     },
     "metadata": {},
     "output_type": "display_data"
    }
   ],
   "source": [
    "#the five most common journals by journal title\n",
    "apc_data['journal_title'].value_counts(sort=True).head().plot(kind='bar');\n"
   ]
  },
  {
   "cell_type": "markdown",
   "metadata": {},
   "source": [
    "## Calculate the mean, median, and standard deviation of the open-access cost per article for each journal"
   ]
  },
  {
   "cell_type": "markdown",
   "metadata": {},
   "source": [
    "### The mean, median and standard deviation per article for Plos_One Journal"
   ]
  },
  {
   "cell_type": "code",
   "execution_count": 652,
   "metadata": {},
   "outputs": [],
   "source": [
    "article_plos_one = apc_data[apc_data.journal_title=='PLOS ONE']"
   ]
  },
  {
   "cell_type": "code",
   "execution_count": 653,
   "metadata": {},
   "outputs": [
    {
     "name": "stdout",
     "output_type": "stream",
     "text": [
      "1982.2533333333326\n",
      "896.99\n",
      "14173.065921944693\n"
     ]
    }
   ],
   "source": [
    "print(article_plos_one.cost.mean())\n",
    "print(article_plos_one.cost.median())\n",
    "print(article_plos_one.cost.std())"
   ]
  },
  {
   "cell_type": "markdown",
   "metadata": {},
   "source": [
    "### The mean, median and standard deviation per article for Journal Of Biological Chemistry"
   ]
  },
  {
   "cell_type": "code",
   "execution_count": 654,
   "metadata": {},
   "outputs": [],
   "source": [
    "article_jbc = apc_data[apc_data.journal_title=='JOURNAL OF BIOLOGICAL CHEMISTRY']"
   ]
  },
  {
   "cell_type": "code",
   "execution_count": 655,
   "metadata": {},
   "outputs": [
    {
     "name": "stdout",
     "output_type": "stream",
     "text": [
      "1378.1404225352114\n",
      "1311.73\n",
      "388.5539113373242\n"
     ]
    }
   ],
   "source": [
    "print(article_jbc.cost.mean())\n",
    "print(article_jbc.cost.median())\n",
    "print(article_jbc.cost.std())"
   ]
  },
  {
   "cell_type": "markdown",
   "metadata": {},
   "source": [
    "### The mean, median and standard deviation per article for Journal Of Neuro Image"
   ]
  },
  {
   "cell_type": "code",
   "execution_count": 656,
   "metadata": {},
   "outputs": [],
   "source": [
    "article_neuro = apc_data[apc_data.journal_title=='NEUROIMAGE']"
   ]
  },
  {
   "cell_type": "code",
   "execution_count": 657,
   "metadata": {},
   "outputs": [
    {
     "name": "stdout",
     "output_type": "stream",
     "text": [
      "2215.168275862069\n",
      "2326.43\n",
      "266.65394691928987\n"
     ]
    }
   ],
   "source": [
    "print(article_neuro.cost.mean())\n",
    "print(article_neuro.cost.median())\n",
    "print(article_neuro.cost.std())"
   ]
  },
  {
   "cell_type": "markdown",
   "metadata": {},
   "source": [
    "### The mean, median and standard deviation per article for Journal Of Plos Pathogens"
   ]
  },
  {
   "cell_type": "code",
   "execution_count": 658,
   "metadata": {},
   "outputs": [],
   "source": [
    "article_pathogen = apc_data[apc_data.journal_title=='PLOS PATHOGENS']"
   ]
  },
  {
   "cell_type": "code",
   "execution_count": 659,
   "metadata": {},
   "outputs": [
    {
     "name": "stdout",
     "output_type": "stream",
     "text": [
      "1572.8668181818182\n",
      "1600.25\n",
      "161.78089066583865\n"
     ]
    }
   ],
   "source": [
    "print(article_pathogen.cost.mean())\n",
    "print(article_pathogen.cost.median())\n",
    "print(article_pathogen.cost.std())"
   ]
  },
  {
   "cell_type": "markdown",
   "metadata": {},
   "source": [
    "### The mean, median and standard deviation per article for Journal Of Nucleic acids Research"
   ]
  },
  {
   "cell_type": "code",
   "execution_count": 660,
   "metadata": {},
   "outputs": [],
   "source": [
    "article_nucleic = apc_data[apc_data.journal_title=='NUCLEIC ACIDS RESEARCH']"
   ]
  },
  {
   "cell_type": "code",
   "execution_count": 661,
   "metadata": {},
   "outputs": [
    {
     "name": "stdout",
     "output_type": "stream",
     "text": [
      "1149.0\n",
      "852.0\n",
      "442.9404474644419\n"
     ]
    }
   ],
   "source": [
    "print(article_nucleic.cost.mean())\n",
    "print(article_nucleic.cost.median())\n",
    "print(article_nucleic.cost.std())"
   ]
  },
  {
   "cell_type": "code",
   "execution_count": 662,
   "metadata": {},
   "outputs": [
    {
     "data": {
      "text/html": [
       "<div>\n",
       "<style scoped>\n",
       "    .dataframe tbody tr th:only-of-type {\n",
       "        vertical-align: middle;\n",
       "    }\n",
       "\n",
       "    .dataframe tbody tr th {\n",
       "        vertical-align: top;\n",
       "    }\n",
       "\n",
       "    .dataframe thead th {\n",
       "        text-align: right;\n",
       "    }\n",
       "</style>\n",
       "<table border=\"1\" class=\"dataframe\">\n",
       "  <thead>\n",
       "    <tr style=\"text-align: right;\">\n",
       "      <th></th>\n",
       "      <th>cost</th>\n",
       "    </tr>\n",
       "  </thead>\n",
       "  <tbody>\n",
       "    <tr>\n",
       "      <th>count</th>\n",
       "      <td>2079.000000</td>\n",
       "    </tr>\n",
       "    <tr>\n",
       "      <th>mean</th>\n",
       "      <td>2016.007273</td>\n",
       "    </tr>\n",
       "    <tr>\n",
       "      <th>std</th>\n",
       "      <td>6101.730446</td>\n",
       "    </tr>\n",
       "    <tr>\n",
       "      <th>min</th>\n",
       "      <td>9.930000</td>\n",
       "    </tr>\n",
       "    <tr>\n",
       "      <th>25%</th>\n",
       "      <td>1270.780000</td>\n",
       "    </tr>\n",
       "    <tr>\n",
       "      <th>50%</th>\n",
       "      <td>1853.000000</td>\n",
       "    </tr>\n",
       "    <tr>\n",
       "      <th>75%</th>\n",
       "      <td>2302.930000</td>\n",
       "    </tr>\n",
       "    <tr>\n",
       "      <th>max</th>\n",
       "      <td>201024.000000</td>\n",
       "    </tr>\n",
       "  </tbody>\n",
       "</table>\n",
       "</div>"
      ],
      "text/plain": [
       "                cost\n",
       "count    2079.000000\n",
       "mean     2016.007273\n",
       "std      6101.730446\n",
       "min         9.930000\n",
       "25%      1270.780000\n",
       "50%      1853.000000\n",
       "75%      2302.930000\n",
       "max    201024.000000"
      ]
     },
     "execution_count": 662,
     "metadata": {},
     "output_type": "execute_result"
    }
   ],
   "source": [
    "apc_data.describe()"
   ]
  },
  {
   "cell_type": "code",
   "execution_count": null,
   "metadata": {},
   "outputs": [],
   "source": []
  },
  {
   "cell_type": "code",
   "execution_count": null,
   "metadata": {},
   "outputs": [],
   "source": []
  }
 ],
 "metadata": {
  "kernelspec": {
   "display_name": "Python 3",
   "language": "python",
   "name": "python3"
  },
  "language_info": {
   "codemirror_mode": {
    "name": "ipython",
    "version": 3
   },
   "file_extension": ".py",
   "mimetype": "text/x-python",
   "name": "python",
   "nbconvert_exporter": "python",
   "pygments_lexer": "ipython3",
   "version": "3.6.5"
  }
 },
 "nbformat": 4,
 "nbformat_minor": 2
}
