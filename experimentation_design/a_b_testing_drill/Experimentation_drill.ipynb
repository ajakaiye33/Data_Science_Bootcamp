{
  "nbformat": 4,
  "nbformat_minor": 0,
  "metadata": {
    "colab": {
      "name": "Experimentation_drill.ipynb",
      "version": "0.3.2",
      "provenance": []
    },
    "kernelspec": {
      "display_name": "Python 3",
      "language": "python",
      "name": "python3"
    }
  },
  "cells": [
    {
      "metadata": {
        "id": "XVaYK07Ge5Ta",
        "colab_type": "text"
      },
      "cell_type": "markdown",
      "source": [
        "## A/B Test Experimentation: Guided Example"
      ]
    },
    {
      "metadata": {
        "id": "lZUU0odue5Te",
        "colab_type": "text"
      },
      "cell_type": "markdown",
      "source": [
        "Our theoretical company is a social networking site, called BlueBird. BlueBird has been using the same advertising email for years, and some at the company are starting to feel that it's getting a little stale. As the data driven individual, you propose an experiment. The marketing department draws up a new version of the email, and you'll conduct an A/B test comparing the two emails."
      ]
    },
    {
      "metadata": {
        "id": "82EEcSahe5Tf",
        "colab_type": "code",
        "colab": {}
      },
      "cell_type": "code",
      "source": [
        "%matplotlib inline\n",
        "import pandas as pd\n",
        "import numpy as np\n",
        "import seaborn as sns\n",
        "import matplotlib.pyplot as plt\n",
        "from scipy import stats"
      ],
      "execution_count": 0,
      "outputs": []
    },
    {
      "metadata": {
        "id": "J7OB46Tre5Tn",
        "colab_type": "code",
        "colab": {}
      },
      "cell_type": "code",
      "source": [
        "plt.rcParams['figure.figsize'] = (15.0, 10.0)"
      ],
      "execution_count": 0,
      "outputs": []
    },
    {
      "metadata": {
        "id": "Oi-FvnCIgQzZ",
        "colab_type": "code",
        "colab": {
          "base_uri": "https://localhost:8080/",
          "height": 241
        },
        "outputId": "b47e2cbb-71e0-4a53-acfb-bf9f16a41130"
      },
      "cell_type": "code",
      "source": [
        "!pip install --upgrade seaborn"
      ],
      "execution_count": 6,
      "outputs": [
        {
          "output_type": "stream",
          "text": [
            "Requirement already up-to-date: seaborn in /usr/local/lib/python3.6/dist-packages (0.9.0)\n",
            "Requirement already satisfied, skipping upgrade: scipy>=0.14.0 in /usr/local/lib/python3.6/dist-packages (from seaborn) (1.1.0)\n",
            "Requirement already satisfied, skipping upgrade: numpy>=1.9.3 in /usr/local/lib/python3.6/dist-packages (from seaborn) (1.14.6)\n",
            "Requirement already satisfied, skipping upgrade: pandas>=0.15.2 in /usr/local/lib/python3.6/dist-packages (from seaborn) (0.22.0)\n",
            "Requirement already satisfied, skipping upgrade: matplotlib>=1.4.3 in /usr/local/lib/python3.6/dist-packages (from seaborn) (3.0.2)\n",
            "Requirement already satisfied, skipping upgrade: pytz>=2011k in /usr/local/lib/python3.6/dist-packages (from pandas>=0.15.2->seaborn) (2018.9)\n",
            "Requirement already satisfied, skipping upgrade: python-dateutil>=2 in /usr/local/lib/python3.6/dist-packages (from pandas>=0.15.2->seaborn) (2.5.3)\n",
            "Requirement already satisfied, skipping upgrade: pyparsing!=2.0.4,!=2.1.2,!=2.1.6,>=2.0.1 in /usr/local/lib/python3.6/dist-packages (from matplotlib>=1.4.3->seaborn) (2.3.1)\n",
            "Requirement already satisfied, skipping upgrade: cycler>=0.10 in /usr/local/lib/python3.6/dist-packages (from matplotlib>=1.4.3->seaborn) (0.10.0)\n",
            "Requirement already satisfied, skipping upgrade: kiwisolver>=1.0.1 in /usr/local/lib/python3.6/dist-packages (from matplotlib>=1.4.3->seaborn) (1.0.1)\n",
            "Requirement already satisfied, skipping upgrade: six>=1.5 in /usr/local/lib/python3.6/dist-packages (from python-dateutil>=2->pandas>=0.15.2->seaborn) (1.11.0)\n",
            "Requirement already satisfied, skipping upgrade: setuptools in /usr/local/lib/python3.6/dist-packages (from kiwisolver>=1.0.1->matplotlib>=1.4.3->seaborn) (40.8.0)\n"
          ],
          "name": "stdout"
        }
      ]
    },
    {
      "metadata": {
        "id": "DtRMIBrCe5Tt",
        "colab_type": "code",
        "colab": {}
      },
      "cell_type": "code",
      "source": [
        "PATH = \"https://raw.githubusercontent.com/Thinkful-Ed/data-201-resources/master/1.4.11_experimentation_guided_example/experiment_data_2_wks.csv\"\n",
        "experiment_data = pd.read_csv(PATH)"
      ],
      "execution_count": 0,
      "outputs": []
    },
    {
      "metadata": {
        "id": "oTggo3YEe5Tw",
        "colab_type": "code",
        "colab": {
          "base_uri": "https://localhost:8080/",
          "height": 359
        },
        "outputId": "9a9da2d3-8f4e-455b-d1a1-ae399de4b347"
      },
      "cell_type": "code",
      "source": [
        "experiment_data.head(10)"
      ],
      "execution_count": 8,
      "outputs": [
        {
          "output_type": "execute_result",
          "data": {
            "text/html": [
              "<div>\n",
              "<style scoped>\n",
              "    .dataframe tbody tr th:only-of-type {\n",
              "        vertical-align: middle;\n",
              "    }\n",
              "\n",
              "    .dataframe tbody tr th {\n",
              "        vertical-align: top;\n",
              "    }\n",
              "\n",
              "    .dataframe thead th {\n",
              "        text-align: right;\n",
              "    }\n",
              "</style>\n",
              "<table border=\"1\" class=\"dataframe\">\n",
              "  <thead>\n",
              "    <tr style=\"text-align: right;\">\n",
              "      <th></th>\n",
              "      <th>treatment_date</th>\n",
              "      <th>test</th>\n",
              "      <th>is_signed_up</th>\n",
              "      <th>signup_date</th>\n",
              "    </tr>\n",
              "  </thead>\n",
              "  <tbody>\n",
              "    <tr>\n",
              "      <th>0</th>\n",
              "      <td>2016-04-01</td>\n",
              "      <td>0</td>\n",
              "      <td>0</td>\n",
              "      <td>NaN</td>\n",
              "    </tr>\n",
              "    <tr>\n",
              "      <th>1</th>\n",
              "      <td>2016-04-01</td>\n",
              "      <td>0</td>\n",
              "      <td>0</td>\n",
              "      <td>NaN</td>\n",
              "    </tr>\n",
              "    <tr>\n",
              "      <th>2</th>\n",
              "      <td>2016-04-01</td>\n",
              "      <td>0</td>\n",
              "      <td>0</td>\n",
              "      <td>NaN</td>\n",
              "    </tr>\n",
              "    <tr>\n",
              "      <th>3</th>\n",
              "      <td>2016-04-01</td>\n",
              "      <td>0</td>\n",
              "      <td>0</td>\n",
              "      <td>NaN</td>\n",
              "    </tr>\n",
              "    <tr>\n",
              "      <th>4</th>\n",
              "      <td>2016-04-01</td>\n",
              "      <td>0</td>\n",
              "      <td>0</td>\n",
              "      <td>NaN</td>\n",
              "    </tr>\n",
              "    <tr>\n",
              "      <th>5</th>\n",
              "      <td>2016-04-01</td>\n",
              "      <td>0</td>\n",
              "      <td>0</td>\n",
              "      <td>NaN</td>\n",
              "    </tr>\n",
              "    <tr>\n",
              "      <th>6</th>\n",
              "      <td>2016-04-01</td>\n",
              "      <td>1</td>\n",
              "      <td>1</td>\n",
              "      <td>2016-04-02</td>\n",
              "    </tr>\n",
              "    <tr>\n",
              "      <th>7</th>\n",
              "      <td>2016-04-01</td>\n",
              "      <td>0</td>\n",
              "      <td>0</td>\n",
              "      <td>NaN</td>\n",
              "    </tr>\n",
              "    <tr>\n",
              "      <th>8</th>\n",
              "      <td>2016-04-01</td>\n",
              "      <td>0</td>\n",
              "      <td>0</td>\n",
              "      <td>NaN</td>\n",
              "    </tr>\n",
              "    <tr>\n",
              "      <th>9</th>\n",
              "      <td>2016-04-01</td>\n",
              "      <td>0</td>\n",
              "      <td>0</td>\n",
              "      <td>NaN</td>\n",
              "    </tr>\n",
              "  </tbody>\n",
              "</table>\n",
              "</div>"
            ],
            "text/plain": [
              "  treatment_date  test  is_signed_up signup_date\n",
              "0     2016-04-01     0             0         NaN\n",
              "1     2016-04-01     0             0         NaN\n",
              "2     2016-04-01     0             0         NaN\n",
              "3     2016-04-01     0             0         NaN\n",
              "4     2016-04-01     0             0         NaN\n",
              "5     2016-04-01     0             0         NaN\n",
              "6     2016-04-01     1             1  2016-04-02\n",
              "7     2016-04-01     0             0         NaN\n",
              "8     2016-04-01     0             0         NaN\n",
              "9     2016-04-01     0             0         NaN"
            ]
          },
          "metadata": {
            "tags": []
          },
          "execution_count": 8
        }
      ]
    },
    {
      "metadata": {
        "id": "5EVnV7Mje5T4",
        "colab_type": "code",
        "colab": {
          "base_uri": "https://localhost:8080/",
          "height": 34
        },
        "outputId": "754f04fe-e127-4b43-ab47-408465322c75"
      },
      "cell_type": "code",
      "source": [
        "experiment_data.shape"
      ],
      "execution_count": 10,
      "outputs": [
        {
          "output_type": "execute_result",
          "data": {
            "text/plain": [
              "(33613, 4)"
            ]
          },
          "metadata": {
            "tags": []
          },
          "execution_count": 10
        }
      ]
    },
    {
      "metadata": {
        "id": "LRpS2d7De5T-",
        "colab_type": "code",
        "colab": {
          "base_uri": "https://localhost:8080/",
          "height": 34
        },
        "outputId": "0dda4440-41a0-469f-9fc7-b3a871113cfc"
      },
      "cell_type": "code",
      "source": [
        "experiment_data.columns"
      ],
      "execution_count": 11,
      "outputs": [
        {
          "output_type": "execute_result",
          "data": {
            "text/plain": [
              "Index(['treatment_date', 'test', 'is_signed_up', 'signup_date'], dtype='object')"
            ]
          },
          "metadata": {
            "tags": []
          },
          "execution_count": 11
        }
      ]
    },
    {
      "metadata": {
        "id": "hJT4fR-te5UE",
        "colab_type": "text"
      },
      "cell_type": "markdown",
      "source": [
        "### How large is each group?"
      ]
    },
    {
      "metadata": {
        "id": "Cd8TYMKje5UG",
        "colab_type": "code",
        "colab": {
          "base_uri": "https://localhost:8080/",
          "height": 34
        },
        "outputId": "acf7e27f-2b75-476c-cf19-f863f2209e51"
      },
      "cell_type": "code",
      "source": [
        "experiment_data[experiment_data.test==0].shape"
      ],
      "execution_count": 12,
      "outputs": [
        {
          "output_type": "execute_result",
          "data": {
            "text/plain": [
              "(30241, 4)"
            ]
          },
          "metadata": {
            "tags": []
          },
          "execution_count": 12
        }
      ]
    },
    {
      "metadata": {
        "id": "GPY3z3ghe5UM",
        "colab_type": "code",
        "colab": {
          "base_uri": "https://localhost:8080/",
          "height": 34
        },
        "outputId": "8bb2b28b-4c58-43fa-d8f2-17488c517d2e"
      },
      "cell_type": "code",
      "source": [
        "experiment_data[experiment_data.test==1].shape"
      ],
      "execution_count": 13,
      "outputs": [
        {
          "output_type": "execute_result",
          "data": {
            "text/plain": [
              "(3372, 4)"
            ]
          },
          "metadata": {
            "tags": []
          },
          "execution_count": 13
        }
      ]
    },
    {
      "metadata": {
        "id": "YA5TM-n2e5UU",
        "colab_type": "code",
        "colab": {
          "base_uri": "https://localhost:8080/",
          "height": 608
        },
        "outputId": "3b6beda1-4405-4eaf-b8c4-4aa22c105b70"
      },
      "cell_type": "code",
      "source": [
        "experiment_data['test'].value_counts().plot(kind='bar')"
      ],
      "execution_count": 17,
      "outputs": [
        {
          "output_type": "execute_result",
          "data": {
            "text/plain": [
              "<matplotlib.axes._subplots.AxesSubplot at 0x7f2d05be6dd8>"
            ]
          },
          "metadata": {
            "tags": []
          },
          "execution_count": 17
        },
        {
          "output_type": "display_data",
          "data": {
            "image/png": "[encoded data removed]",
            "text/plain": [
              "<Figure size 1080x720 with 1 Axes>"
            ]
          },
          "metadata": {
            "tags": []
          }
        }
      ]
    },
    {
      "metadata": {
        "id": "vW93lBZYe5Ua",
        "colab_type": "code",
        "colab": {
          "base_uri": "https://localhost:8080/",
          "height": 626
        },
        "outputId": "94ad862e-6ea5-4ebc-f0ea-26dcaffee42e"
      },
      "cell_type": "code",
      "source": [
        "sns.countplot('test', data=experiment_data)"
      ],
      "execution_count": 18,
      "outputs": [
        {
          "output_type": "execute_result",
          "data": {
            "text/plain": [
              "<matplotlib.axes._subplots.AxesSubplot at 0x7f2d05b41ef0>"
            ]
          },
          "metadata": {
            "tags": []
          },
          "execution_count": 18
        },
        {
          "output_type": "display_data",
          "data": {
            "image/png": "[encoded data removed]",
            "text/plain": [
              "<Figure size 1080x720 with 1 Axes>"
            ]
          },
          "metadata": {
            "tags": []
          }
        }
      ]
    },
    {
      "metadata": {
        "id": "NFA3qa4ie5Ue",
        "colab_type": "text"
      },
      "cell_type": "markdown",
      "source": [
        "### What is the signup rate of test and control"
      ]
    },
    {
      "metadata": {
        "id": "I3aGwp2ue5Uf",
        "colab_type": "code",
        "colab": {}
      },
      "cell_type": "code",
      "source": [
        "test_group = experiment_data[experiment_data.test==1]"
      ],
      "execution_count": 0,
      "outputs": []
    },
    {
      "metadata": {
        "id": "ufrccrfKe5Ui",
        "colab_type": "code",
        "colab": {},
        "outputId": "ffd8da17-8c33-4a34-d1a7-473c6c55f012"
      },
      "cell_type": "code",
      "source": [
        "test_group['is_signed_up'].mean()"
      ],
      "execution_count": 0,
      "outputs": [
        {
          "output_type": "execute_result",
          "data": {
            "text/plain": [
              "0.13701067615658363"
            ]
          },
          "metadata": {
            "tags": []
          },
          "execution_count": 80
        }
      ]
    },
    {
      "metadata": {
        "id": "qvAZ7l4se5Uq",
        "colab_type": "code",
        "colab": {}
      },
      "cell_type": "code",
      "source": [
        "control_group = experiment_data[experiment_data.test==0]"
      ],
      "execution_count": 0,
      "outputs": []
    },
    {
      "metadata": {
        "id": "ydhnWbWre5Uv",
        "colab_type": "code",
        "colab": {
          "base_uri": "https://localhost:8080/",
          "height": 34
        },
        "outputId": "b3c47261-9f24-4c6d-f495-a790143be655"
      },
      "cell_type": "code",
      "source": [
        "control_group['is_signed_up'].mean()"
      ],
      "execution_count": 21,
      "outputs": [
        {
          "output_type": "execute_result",
          "data": {
            "text/plain": [
              "0.14708508316523924"
            ]
          },
          "metadata": {
            "tags": []
          },
          "execution_count": 21
        }
      ]
    },
    {
      "metadata": {
        "id": "I3KEMZR2e5U0",
        "colab_type": "text"
      },
      "cell_type": "markdown",
      "source": [
        "### Is the experiment already significant?\n",
        "The p value is greater than 0.05, therefore the null hypothesis can not be rejected. Hence there is no significant difference between the groups"
      ]
    },
    {
      "metadata": {
        "id": "njxZhfO_e5U2",
        "colab_type": "code",
        "colab": {
          "base_uri": "https://localhost:8080/",
          "height": 34
        },
        "outputId": "caf287e4-2cb9-4854-f602-005c737568ad"
      },
      "cell_type": "code",
      "source": [
        "stats.ttest_ind(test_group['is_signed_up'],control_group['is_signed_up'])"
      ],
      "execution_count": 22,
      "outputs": [
        {
          "output_type": "execute_result",
          "data": {
            "text/plain": [
              "Ttest_indResult(statistic=-1.5711354292574262, pvalue=0.11616060761145311)"
            ]
          },
          "metadata": {
            "tags": []
          },
          "execution_count": 22
        }
      ]
    },
    {
      "metadata": {
        "id": "5XG7khIoe5VD",
        "colab_type": "code",
        "colab": {
          "base_uri": "https://localhost:8080/",
          "height": 34
        },
        "outputId": "b668ba22-bdba-41c7-f3fe-3ec7744062bb"
      },
      "cell_type": "code",
      "source": [
        "0.11616060761145311 > 5/100"
      ],
      "execution_count": 23,
      "outputs": [
        {
          "output_type": "execute_result",
          "data": {
            "text/plain": [
              "True"
            ]
          },
          "metadata": {
            "tags": []
          },
          "execution_count": 23
        }
      ]
    },
    {
      "metadata": {
        "id": "2t_zRjoLe5VH",
        "colab_type": "code",
        "colab": {
          "base_uri": "https://localhost:8080/",
          "height": 850
        },
        "outputId": "ec1743eb-6a66-4235-cfd7-0c872f32ba01"
      },
      "cell_type": "code",
      "source": [
        "fig = test_group[['treatment_date', 'is_signed_up']].groupby('treatment_date').mean().plot()\n",
        "control_group[['treatment_date', 'is_signed_up']].groupby('treatment_date').mean().plot(ax = fig)\n",
        "plt.legend(['test', 'control'])\n",
        "plt.title('Comparing Signed up Rate by Treatment Date')\n",
        "plt.show()\n",
        "\n",
        "# test statistic comparing test and control on treatment date\n",
        "for date in experiment_data.treatment_date.unique():\n",
        "    dated_data = experiment_data[experiment_data.treatment_date== date]\n",
        "    print(stats.ttest_ind(dated_data[dated_data.test==1].is_signed_up,\n",
        "                           dated_data[dated_data.test==0].is_signed_up))\n",
        "    \n"
      ],
      "execution_count": 24,
      "outputs": [
        {
          "output_type": "display_data",
          "data": {
            "image/png": "[encoded data removed]",
            "text/plain": [
              "<Figure size 1080x720 with 1 Axes>"
            ]
          },
          "metadata": {
            "tags": []
          }
        },
        {
          "output_type": "stream",
          "text": [
            "Ttest_indResult(statistic=1.171015382328547, pvalue=0.24172432121696255)\n",
            "Ttest_indResult(statistic=0.39163213374090855, pvalue=0.6953630758340448)\n",
            "Ttest_indResult(statistic=0.24114731791032132, pvalue=0.8094651742723448)\n",
            "Ttest_indResult(statistic=1.006146671265253, pvalue=0.3144281887767212)\n",
            "Ttest_indResult(statistic=1.7950152227404037, pvalue=0.0727950243234006)\n",
            "Ttest_indResult(statistic=-0.07142256949339083, pvalue=0.9430681183812821)\n",
            "Ttest_indResult(statistic=-0.99645401324533, pvalue=0.31911047625459077)\n",
            "Ttest_indResult(statistic=-1.4059315672051254, pvalue=0.1598930922410899)\n",
            "Ttest_indResult(statistic=-2.772772511643487, pvalue=0.0055926512303104605)\n",
            "Ttest_indResult(statistic=-1.301097855458891, pvalue=0.19332775805677105)\n",
            "Ttest_indResult(statistic=-1.6243695706046337, pvalue=0.10443285596458776)\n",
            "Ttest_indResult(statistic=-2.559540254853317, pvalue=0.010550250694229046)\n",
            "Ttest_indResult(statistic=-0.851793126290792, pvalue=0.3944212121535955)\n",
            "Ttest_indResult(statistic=0.014473352887334019, pvalue=0.9884536957336474)\n"
          ],
          "name": "stdout"
        }
      ]
    },
    {
      "metadata": {
        "id": "iE0RmFw-e5VL",
        "colab_type": "text"
      },
      "cell_type": "markdown",
      "source": [
        "### Analyze Result for the Entire four weeks"
      ]
    },
    {
      "metadata": {
        "id": "_ygQlpu_e5VM",
        "colab_type": "code",
        "colab": {}
      },
      "cell_type": "code",
      "source": [
        "PATH = \"https://raw.githubusercontent.com/Thinkful-Ed/data-201-resources/master/1.4.11_experimentation_guided_example/experiment_data_final.csv\"\n",
        "full_exper_data = pd.read_csv(PATH)"
      ],
      "execution_count": 0,
      "outputs": []
    },
    {
      "metadata": {
        "id": "UIN4LYVEe5VP",
        "colab_type": "code",
        "colab": {
          "base_uri": "https://localhost:8080/",
          "height": 204
        },
        "outputId": "c0d3743a-3b54-495c-dbfb-288851e4b421"
      },
      "cell_type": "code",
      "source": [
        "full_exper_data.head()"
      ],
      "execution_count": 26,
      "outputs": [
        {
          "output_type": "execute_result",
          "data": {
            "text/html": [
              "<div>\n",
              "<style scoped>\n",
              "    .dataframe tbody tr th:only-of-type {\n",
              "        vertical-align: middle;\n",
              "    }\n",
              "\n",
              "    .dataframe tbody tr th {\n",
              "        vertical-align: top;\n",
              "    }\n",
              "\n",
              "    .dataframe thead th {\n",
              "        text-align: right;\n",
              "    }\n",
              "</style>\n",
              "<table border=\"1\" class=\"dataframe\">\n",
              "  <thead>\n",
              "    <tr style=\"text-align: right;\">\n",
              "      <th></th>\n",
              "      <th>treatment_date</th>\n",
              "      <th>test</th>\n",
              "      <th>is_signed_up</th>\n",
              "      <th>signup_date</th>\n",
              "    </tr>\n",
              "  </thead>\n",
              "  <tbody>\n",
              "    <tr>\n",
              "      <th>0</th>\n",
              "      <td>2016-04-01</td>\n",
              "      <td>0</td>\n",
              "      <td>0</td>\n",
              "      <td>NaN</td>\n",
              "    </tr>\n",
              "    <tr>\n",
              "      <th>1</th>\n",
              "      <td>2016-04-01</td>\n",
              "      <td>0</td>\n",
              "      <td>0</td>\n",
              "      <td>NaN</td>\n",
              "    </tr>\n",
              "    <tr>\n",
              "      <th>2</th>\n",
              "      <td>2016-04-01</td>\n",
              "      <td>0</td>\n",
              "      <td>0</td>\n",
              "      <td>NaN</td>\n",
              "    </tr>\n",
              "    <tr>\n",
              "      <th>3</th>\n",
              "      <td>2016-04-01</td>\n",
              "      <td>0</td>\n",
              "      <td>0</td>\n",
              "      <td>NaN</td>\n",
              "    </tr>\n",
              "    <tr>\n",
              "      <th>4</th>\n",
              "      <td>2016-04-01</td>\n",
              "      <td>0</td>\n",
              "      <td>0</td>\n",
              "      <td>NaN</td>\n",
              "    </tr>\n",
              "  </tbody>\n",
              "</table>\n",
              "</div>"
            ],
            "text/plain": [
              "  treatment_date  test  is_signed_up signup_date\n",
              "0     2016-04-01     0             0         NaN\n",
              "1     2016-04-01     0             0         NaN\n",
              "2     2016-04-01     0             0         NaN\n",
              "3     2016-04-01     0             0         NaN\n",
              "4     2016-04-01     0             0         NaN"
            ]
          },
          "metadata": {
            "tags": []
          },
          "execution_count": 26
        }
      ]
    },
    {
      "metadata": {
        "id": "t72Yc7sLhcHJ",
        "colab_type": "code",
        "colab": {
          "base_uri": "https://localhost:8080/",
          "height": 34
        },
        "outputId": "0dfcb475-6f22-4ec7-a9da-b51897865bba"
      },
      "cell_type": "code",
      "source": [
        "full_exper_data.shape"
      ],
      "execution_count": 27,
      "outputs": [
        {
          "output_type": "execute_result",
          "data": {
            "text/plain": [
              "(66728, 4)"
            ]
          },
          "metadata": {
            "tags": []
          },
          "execution_count": 27
        }
      ]
    },
    {
      "metadata": {
        "id": "PlevFQKhh09R",
        "colab_type": "text"
      },
      "cell_type": "markdown",
      "source": [
        "#### Test Group size"
      ]
    },
    {
      "metadata": {
        "id": "eupDw2QYhjB8",
        "colab_type": "code",
        "colab": {
          "base_uri": "https://localhost:8080/",
          "height": 34
        },
        "outputId": "0c6a2452-6cc1-4e93-ee6a-3f1d7b3d21db"
      },
      "cell_type": "code",
      "source": [
        "full_exper_data[full_exper_data.test==1].shape"
      ],
      "execution_count": 28,
      "outputs": [
        {
          "output_type": "execute_result",
          "data": {
            "text/plain": [
              "(19861, 4)"
            ]
          },
          "metadata": {
            "tags": []
          },
          "execution_count": 28
        }
      ]
    },
    {
      "metadata": {
        "id": "8YPLP6r0ifra",
        "colab_type": "text"
      },
      "cell_type": "markdown",
      "source": [
        "#### Control Group size"
      ]
    },
    {
      "metadata": {
        "id": "3KC9Idl2icFp",
        "colab_type": "code",
        "colab": {
          "base_uri": "https://localhost:8080/",
          "height": 34
        },
        "outputId": "9a378db3-d39a-49ac-ca10-5612627c5d16"
      },
      "cell_type": "code",
      "source": [
        "full_exper_data[full_exper_data.test==0].shape"
      ],
      "execution_count": 30,
      "outputs": [
        {
          "output_type": "execute_result",
          "data": {
            "text/plain": [
              "(46867, 4)"
            ]
          },
          "metadata": {
            "tags": []
          },
          "execution_count": 30
        }
      ]
    },
    {
      "metadata": {
        "id": "fsp-XflLizyn",
        "colab_type": "code",
        "colab": {
          "base_uri": "https://localhost:8080/",
          "height": 626
        },
        "outputId": "6a6406e5-fd20-4317-9a4a-368b7c25b499"
      },
      "cell_type": "code",
      "source": [
        "sns.countplot('test', data=full_exper_data)"
      ],
      "execution_count": 31,
      "outputs": [
        {
          "output_type": "execute_result",
          "data": {
            "text/plain": [
              "<matplotlib.axes._subplots.AxesSubplot at 0x7f2d05812c50>"
            ]
          },
          "metadata": {
            "tags": []
          },
          "execution_count": 31
        },
        {
          "output_type": "display_data",
          "data": {
            "image/png": "[encoded data removed]",
            "text/plain": [
              "<Figure size 1080x720 with 1 Axes>"
            ]
          },
          "metadata": {
            "tags": []
          }
        }
      ]
    },
    {
      "metadata": {
        "id": "n5okj-uxjM1e",
        "colab_type": "text"
      },
      "cell_type": "markdown",
      "source": [
        "### What is the signup rate of test and control"
      ]
    },
    {
      "metadata": {
        "id": "CHWD1in9jTeq",
        "colab_type": "text"
      },
      "cell_type": "markdown",
      "source": [
        "#### Test Rate"
      ]
    },
    {
      "metadata": {
        "id": "ffw7WwQQi82v",
        "colab_type": "code",
        "colab": {}
      },
      "cell_type": "code",
      "source": [
        "test_group2 = full_exper_data[full_exper_data.test==1]"
      ],
      "execution_count": 0,
      "outputs": []
    },
    {
      "metadata": {
        "id": "QP2Fi_UPjbSZ",
        "colab_type": "code",
        "colab": {
          "base_uri": "https://localhost:8080/",
          "height": 34
        },
        "outputId": "f4f8ec9e-d057-4c80-ecb6-7517b9bfdc80"
      },
      "cell_type": "code",
      "source": [
        "test_group2['is_signed_up'].mean()"
      ],
      "execution_count": 33,
      "outputs": [
        {
          "output_type": "execute_result",
          "data": {
            "text/plain": [
              "0.2421328231206888"
            ]
          },
          "metadata": {
            "tags": []
          },
          "execution_count": 33
        }
      ]
    },
    {
      "metadata": {
        "id": "IzjRp52ckFHx",
        "colab_type": "text"
      },
      "cell_type": "markdown",
      "source": [
        "#### Control Rate"
      ]
    },
    {
      "metadata": {
        "id": "sOs4ZBOMj0YV",
        "colab_type": "code",
        "colab": {}
      },
      "cell_type": "code",
      "source": [
        "control_group2 = full_exper_data[full_exper_data.test==0]"
      ],
      "execution_count": 0,
      "outputs": []
    },
    {
      "metadata": {
        "id": "0wttTcskkMkH",
        "colab_type": "code",
        "colab": {
          "base_uri": "https://localhost:8080/",
          "height": 34
        },
        "outputId": "88854908-2155-43bf-b3c5-fddc9984ffaa"
      },
      "cell_type": "code",
      "source": [
        "control_group2['is_signed_up'].mean()"
      ],
      "execution_count": 35,
      "outputs": [
        {
          "output_type": "execute_result",
          "data": {
            "text/plain": [
              "0.19937269293959503"
            ]
          },
          "metadata": {
            "tags": []
          },
          "execution_count": 35
        }
      ]
    },
    {
      "metadata": {
        "id": "KSS5YnbykXko",
        "colab_type": "text"
      },
      "cell_type": "markdown",
      "source": [
        "### Is the experiment already significant?\n",
        "with a p value of 4.248167714911685e-35, which is not greater than 0.05,we would reject the null hypothesis as there is significant difference in the sign up of the test group."
      ]
    },
    {
      "metadata": {
        "id": "rT6c3TvjkQzt",
        "colab_type": "code",
        "colab": {
          "base_uri": "https://localhost:8080/",
          "height": 34
        },
        "outputId": "fff9272d-1d99-4363-9dc5-402d9e0a8972"
      },
      "cell_type": "code",
      "source": [
        "stats.ttest_ind(test_group2['is_signed_up'], control_group2['is_signed_up'])"
      ],
      "execution_count": 36,
      "outputs": [
        {
          "output_type": "execute_result",
          "data": {
            "text/plain": [
              "Ttest_indResult(statistic=12.368130184147793, pvalue=4.248167714911685e-35)"
            ]
          },
          "metadata": {
            "tags": []
          },
          "execution_count": 36
        }
      ]
    },
    {
      "metadata": {
        "id": "AAaRtNX3kiUV",
        "colab_type": "code",
        "colab": {
          "base_uri": "https://localhost:8080/",
          "height": 34
        },
        "outputId": "31391e56-3b20-44c5-b803-80ae1319449f"
      },
      "cell_type": "code",
      "source": [
        "4.248167714911685e-35 > 5/100"
      ],
      "execution_count": 37,
      "outputs": [
        {
          "output_type": "execute_result",
          "data": {
            "text/plain": [
              "False"
            ]
          },
          "metadata": {
            "tags": []
          },
          "execution_count": 37
        }
      ]
    },
    {
      "metadata": {
        "id": "qPfkP45WknId",
        "colab_type": "code",
        "colab": {
          "base_uri": "https://localhost:8080/",
          "height": 612
        },
        "outputId": "529241ea-0e40-4f99-ed79-7e5599a08433"
      },
      "cell_type": "code",
      "source": [
        "fig = test_group2[['treatment_date', 'is_signed_up']].groupby('treatment_date').mean().plot()\n",
        "control_group2[['treatment_date', 'is_signed_up']].groupby('treatment_date').mean().plot(ax = fig)\n",
        "plt.legend(['test', 'control'])\n",
        "plt.title('Comparing Signed up Rate by Treatment Date')\n",
        "plt.show()"
      ],
      "execution_count": 38,
      "outputs": [
        {
          "output_type": "display_data",
          "data": {
            "image/png": "[encoded data removed]",
            "text/plain": [
              "<Figure size 1080x720 with 1 Axes>"
            ]
          },
          "metadata": {
            "tags": []
          }
        }
      ]
    }
  ]
}