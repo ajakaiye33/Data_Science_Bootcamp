{
 "cells": [
  {
   "cell_type": "markdown",
   "metadata": {},
   "source": [
    "###  Introduction and Statement of Problem \n",
    "\n",
    "Our startup name is applyme. Applyme is rewriting the rule of  employment agency. Our business model is a total deviation from the convention of talent sourcing and head hunting.   Rather than employees applying to jobs, our platform makes jobs come to you. In order words, our clients seeking to fill vacant positions with talented workers  browse profiles of prospective employees on our platform and when such profile meet their expectation, they apply directly to this profile by clicking 'come work for us'. Thereby linking employers to employees\n",
    "\n",
    "For some time now,the steam is cooling off on us and we would like to subject our suspicions to imperical test. To this end we would utilized the A/B testing methodology. We seek to introduce the linkedin emb unto the profile page of employees on our platform as we believe that profile with the linkedin emb would be more acessible and gain more viscibility amongst our clients, who are invariably the potential employers of the employees on our platfirm. \n",
    "\n",
    "Our goal in this test is to quantify the impact of the linkedin embeded on the profile page of employees on the applyme platform.  \n",
    "\n",
    "### Hypothesis\n",
    "\n",
    "We expect that: \n",
    "* Employees that have the linkedin embeded on their profile page would be more visible to employers than those that do not.\n",
    "* Employees that have the linkedin embeded on their profile stand a better chance of being invited for interview than those that do not. \n",
    "* Employees that have the linkedin embeded on their profile stand a better chance of getting jobs and employemnt letters than those that don not.\n",
    "for the above, hypothesis to be usefull they have to be rigorously tested and measured.\n",
    "\n",
    "\n"
   ]
  },
  {
   "cell_type": "code",
   "execution_count": null,
   "metadata": {},
   "outputs": [],
   "source": []
  },
  {
   "cell_type": "code",
   "execution_count": null,
   "metadata": {},
   "outputs": [],
   "source": []
  }
 ],
 "metadata": {
  "kernelspec": {
   "display_name": "Python 3",
   "language": "python",
   "name": "python3"
  },
  "language_info": {
   "codemirror_mode": {
    "name": "ipython",
    "version": 3
   },
   "file_extension": ".py",
   "mimetype": "text/x-python",
   "name": "python",
   "nbconvert_exporter": "python",
   "pygments_lexer": "ipython3",
   "version": "3.6.5"
  }
 },
 "nbformat": 4,
 "nbformat_minor": 2
}
