{
 "cells": [
  {
   "cell_type": "markdown",
   "metadata": {},
   "source": [
    "###  Introduction and Statement of Problem \n",
    "\n",
    "Our startup name is applyme. Applyme is rewriting the rule of  employment agency. Our business model is a total deviation from the convention of talent sourcing and head hunting.   Rather than employees applying to jobs, our platform makes jobs come to you. In order words, our clients seeking to fill vacant positions with talented workers  browse profiles of prospective employees on our platform and when such profile meet their expectation, they apply directly to this profile by clicking 'come work for us'. Thereby liking employers to employees\n",
    "\n",
    "For some time now,the steam is cooling off on us and we would like to subject our suspicions to imperical test. To this end we would utilized the A/B testing methodology. We seek to introduce the linkedin emb unto the profile page of employees on our platform as we believe that profile with the linkedin emb would be more acessible and gain more viscibility amongst our clients, who are invariably the potential employers of the employees on our platfirm. \n",
    "\n",
    "Our goal in this exercise is to quantifiy the impact employees with the linkedin emb on their profile page would have on employers who are subscribers of our services.\n",
    "\n",
    "### Hypothesis\n",
    "\n",
    "We expect that: \n",
    "*employees that have the linkedin em on their profile page would be more visible to employers\n",
    "*employees that have the linkedin em on their profile stand a better chance of being invited for interview by potential employers\n",
    "*employees that have the linkedin em on their profile stand a better chance of getting jobs and employemnt letters from exployers\n",
    "and have better chance of being invited for interview and possibly get"
   ]
  },
  {
   "cell_type": "code",
   "execution_count": null,
   "metadata": {},
   "outputs": [],
   "source": []
  },
  {
   "cell_type": "code",
   "execution_count": null,
   "metadata": {},
   "outputs": [],
   "source": []
  }
 ],
 "metadata": {
  "kernelspec": {
   "display_name": "Python 3",
   "language": "python",
   "name": "python3"
  },
  "language_info": {
   "codemirror_mode": {
    "name": "ipython",
    "version": 3
   },
   "file_extension": ".py",
   "mimetype": "text/x-python",
   "name": "python",
   "nbconvert_exporter": "python",
   "pygments_lexer": "ipython3",
   "version": "3.6.5"
  }
 },
 "nbformat": 4,
 "nbformat_minor": 2
}
