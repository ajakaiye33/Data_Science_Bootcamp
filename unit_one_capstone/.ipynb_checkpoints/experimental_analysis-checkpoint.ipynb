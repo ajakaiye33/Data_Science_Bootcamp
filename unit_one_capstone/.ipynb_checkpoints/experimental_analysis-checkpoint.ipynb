{
 "cells": [
  {
   "cell_type": "markdown",
   "metadata": {},
   "source": [
    "Our startup name is applyme. Applyme is rewriting the rule of  employment agency. Our business model is a total deviation from the convention of talent sourcing and head hunting.   Rather than employees applying to jobs, our platform makes jobs come to you. In order words, our clients seeking to fill vacant positions with talented workers  browse profiles of prospective employees on our platform and when such profile meet their expectation, they apply directly to this profile by clicking 'come work for us'. Thereby liking employers to employees\n",
    "\n",
    "For some time now,the steam is cooling off on us and we would want a fix that is repeatable and devoid of guesses and intuition. To this end we would apply the a/b testing methodology. We seek to introduce an embed on the profile page of employees on our platform as we suspect that profile that would enable our client to  view and access  the linkedin page of prospective employees directly from our platform stand a chance of being invited for interview and possibly clinched the job"
   ]
  },
  {
   "cell_type": "code",
   "execution_count": null,
   "metadata": {},
   "outputs": [],
   "source": []
  },
  {
   "cell_type": "code",
   "execution_count": null,
   "metadata": {},
   "outputs": [],
   "source": []
  }
 ],
 "metadata": {
  "kernelspec": {
   "display_name": "Python 3",
   "language": "python",
   "name": "python3"
  },
  "language_info": {
   "codemirror_mode": {
    "name": "ipython",
    "version": 3
   },
   "file_extension": ".py",
   "mimetype": "text/x-python",
   "name": "python",
   "nbconvert_exporter": "python",
   "pygments_lexer": "ipython3",
   "version": "3.6.5"
  }
 },
 "nbformat": 4,
 "nbformat_minor": 2
}
